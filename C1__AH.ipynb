{
  "nbformat": 4,
  "nbformat_minor": 0,
  "metadata": {
    "colab": {
      "provenance": [],
      "authorship_tag": "ABX9TyOdAUWXvfDcArHZeW4ZBgNM",
      "include_colab_link": true
    },
    "kernelspec": {
      "name": "python3",
      "display_name": "Python 3"
    },
    "language_info": {
      "name": "python"
    }
  },
  "cells": [
    {
      "cell_type": "markdown",
      "metadata": {
        "id": "view-in-github",
        "colab_type": "text"
      },
      "source": [
        "<a href=\"https://colab.research.google.com/github/045051Shalini/GEN_AI_LLM/blob/main/C1__AH.ipynb\" target=\"_parent\"><img src=\"https://colab.research.google.com/assets/colab-badge.svg\" alt=\"Open In Colab\"/></a>"
      ]
    },
    {
      "cell_type": "markdown",
      "source": [
        "#C1 -ASHOK HARNAL#"
      ],
      "metadata": {
        "id": "6rHiju2jxGAJ"
      }
    },
    {
      "cell_type": "code",
      "source": [
        "# 1.0 Call libraries\n",
        "import pandas as pd\n",
        "import numpy as np\n",
        "from  pathlib import Path\n",
        "\n",
        "# 1.0.1\n",
        "import tensorflow as tf\n",
        "from tensorflow import keras\n",
        "from tensorflow.keras import layers"
      ],
      "metadata": {
        "id": "PRzN6GM8grI3"
      },
      "execution_count": 1,
      "outputs": []
    },
    {
      "cell_type": "code",
      "source": [
        "# 1.1 Display multiple commands output from a cell\n",
        "from IPython.core.interactiveshell import InteractiveShell\n",
        "InteractiveShell.ast_node_interactivity = \"all\""
      ],
      "metadata": {
        "id": "Dn6X9BOPmVH3"
      },
      "execution_count": 2,
      "outputs": []
    },
    {
      "cell_type": "code",
      "source": [
        "# 2.0\n",
        "from google.colab import drive\n",
        "drive.mount('/gdrive')"
      ],
      "metadata": {
        "colab": {
          "base_uri": "https://localhost:8080/"
        },
        "id": "8tfnLyKemmy9",
        "outputId": "da218d9a-09eb-48d9-9335-c8f247044ed6"
      },
      "execution_count": 3,
      "outputs": [
        {
          "output_type": "stream",
          "name": "stdout",
          "text": [
            "Mounted at /gdrive\n"
          ]
        }
      ]
    },
    {
      "cell_type": "code",
      "source": [
        "# 2.1 Where is our data file:\n",
        "pathToFolder = \"/gdrive/MyDrive/deeplearning\""
      ],
      "metadata": {
        "id": "mCUIVDOymrj-"
      },
      "execution_count": 4,
      "outputs": []
    },
    {
      "cell_type": "code",
      "source": [
        "# 2.2 Full file path:\n",
        "path = Path(pathToFolder) / \"red_wine.csv\""
      ],
      "metadata": {
        "id": "5JuhcTzZnDFD"
      },
      "execution_count": 5,
      "outputs": []
    },
    {
      "cell_type": "code",
      "source": [
        "# 3.0 Read data\n",
        "red_wine = pd.read_csv(path)\n",
        "red_wine.head()"
      ],
      "metadata": {
        "colab": {
          "base_uri": "https://localhost:8080/",
          "height": 223
        },
        "id": "nlfePgqyni9C",
        "outputId": "9a4db755-6954-4945-d516-ab1aa316a9c1"
      },
      "execution_count": 6,
      "outputs": [
        {
          "output_type": "execute_result",
          "data": {
            "text/plain": [
              "   fixed acidity  volatile acidity  citric acid  residual sugar  chlorides  \\\n",
              "0            7.4              0.70         0.00             1.9      0.076   \n",
              "1            7.8              0.88         0.00             2.6      0.098   \n",
              "2            7.8              0.76         0.04             2.3      0.092   \n",
              "3           11.2              0.28         0.56             1.9      0.075   \n",
              "4            7.4              0.70         0.00             1.9      0.076   \n",
              "\n",
              "   free sulfur dioxide  total sulfur dioxide  density    pH  sulphates  \\\n",
              "0                 11.0                  34.0   0.9978  3.51       0.56   \n",
              "1                 25.0                  67.0   0.9968  3.20       0.68   \n",
              "2                 15.0                  54.0   0.9970  3.26       0.65   \n",
              "3                 17.0                  60.0   0.9980  3.16       0.58   \n",
              "4                 11.0                  34.0   0.9978  3.51       0.56   \n",
              "\n",
              "   alcohol  quality  \n",
              "0      9.4        5  \n",
              "1      9.8        5  \n",
              "2      9.8        5  \n",
              "3      9.8        6  \n",
              "4      9.4        5  "
            ],
            "text/html": [
              "\n",
              "  <div id=\"df-1682819b-4b5a-4d0a-81cd-4da5914b1b1c\" class=\"colab-df-container\">\n",
              "    <div>\n",
              "<style scoped>\n",
              "    .dataframe tbody tr th:only-of-type {\n",
              "        vertical-align: middle;\n",
              "    }\n",
              "\n",
              "    .dataframe tbody tr th {\n",
              "        vertical-align: top;\n",
              "    }\n",
              "\n",
              "    .dataframe thead th {\n",
              "        text-align: right;\n",
              "    }\n",
              "</style>\n",
              "<table border=\"1\" class=\"dataframe\">\n",
              "  <thead>\n",
              "    <tr style=\"text-align: right;\">\n",
              "      <th></th>\n",
              "      <th>fixed acidity</th>\n",
              "      <th>volatile acidity</th>\n",
              "      <th>citric acid</th>\n",
              "      <th>residual sugar</th>\n",
              "      <th>chlorides</th>\n",
              "      <th>free sulfur dioxide</th>\n",
              "      <th>total sulfur dioxide</th>\n",
              "      <th>density</th>\n",
              "      <th>pH</th>\n",
              "      <th>sulphates</th>\n",
              "      <th>alcohol</th>\n",
              "      <th>quality</th>\n",
              "    </tr>\n",
              "  </thead>\n",
              "  <tbody>\n",
              "    <tr>\n",
              "      <th>0</th>\n",
              "      <td>7.4</td>\n",
              "      <td>0.70</td>\n",
              "      <td>0.00</td>\n",
              "      <td>1.9</td>\n",
              "      <td>0.076</td>\n",
              "      <td>11.0</td>\n",
              "      <td>34.0</td>\n",
              "      <td>0.9978</td>\n",
              "      <td>3.51</td>\n",
              "      <td>0.56</td>\n",
              "      <td>9.4</td>\n",
              "      <td>5</td>\n",
              "    </tr>\n",
              "    <tr>\n",
              "      <th>1</th>\n",
              "      <td>7.8</td>\n",
              "      <td>0.88</td>\n",
              "      <td>0.00</td>\n",
              "      <td>2.6</td>\n",
              "      <td>0.098</td>\n",
              "      <td>25.0</td>\n",
              "      <td>67.0</td>\n",
              "      <td>0.9968</td>\n",
              "      <td>3.20</td>\n",
              "      <td>0.68</td>\n",
              "      <td>9.8</td>\n",
              "      <td>5</td>\n",
              "    </tr>\n",
              "    <tr>\n",
              "      <th>2</th>\n",
              "      <td>7.8</td>\n",
              "      <td>0.76</td>\n",
              "      <td>0.04</td>\n",
              "      <td>2.3</td>\n",
              "      <td>0.092</td>\n",
              "      <td>15.0</td>\n",
              "      <td>54.0</td>\n",
              "      <td>0.9970</td>\n",
              "      <td>3.26</td>\n",
              "      <td>0.65</td>\n",
              "      <td>9.8</td>\n",
              "      <td>5</td>\n",
              "    </tr>\n",
              "    <tr>\n",
              "      <th>3</th>\n",
              "      <td>11.2</td>\n",
              "      <td>0.28</td>\n",
              "      <td>0.56</td>\n",
              "      <td>1.9</td>\n",
              "      <td>0.075</td>\n",
              "      <td>17.0</td>\n",
              "      <td>60.0</td>\n",
              "      <td>0.9980</td>\n",
              "      <td>3.16</td>\n",
              "      <td>0.58</td>\n",
              "      <td>9.8</td>\n",
              "      <td>6</td>\n",
              "    </tr>\n",
              "    <tr>\n",
              "      <th>4</th>\n",
              "      <td>7.4</td>\n",
              "      <td>0.70</td>\n",
              "      <td>0.00</td>\n",
              "      <td>1.9</td>\n",
              "      <td>0.076</td>\n",
              "      <td>11.0</td>\n",
              "      <td>34.0</td>\n",
              "      <td>0.9978</td>\n",
              "      <td>3.51</td>\n",
              "      <td>0.56</td>\n",
              "      <td>9.4</td>\n",
              "      <td>5</td>\n",
              "    </tr>\n",
              "  </tbody>\n",
              "</table>\n",
              "</div>\n",
              "    <div class=\"colab-df-buttons\">\n",
              "\n",
              "  <div class=\"colab-df-container\">\n",
              "    <button class=\"colab-df-convert\" onclick=\"convertToInteractive('df-1682819b-4b5a-4d0a-81cd-4da5914b1b1c')\"\n",
              "            title=\"Convert this dataframe to an interactive table.\"\n",
              "            style=\"display:none;\">\n",
              "\n",
              "  <svg xmlns=\"http://www.w3.org/2000/svg\" height=\"24px\" viewBox=\"0 -960 960 960\">\n",
              "    <path d=\"M120-120v-720h720v720H120Zm60-500h600v-160H180v160Zm220 220h160v-160H400v160Zm0 220h160v-160H400v160ZM180-400h160v-160H180v160Zm440 0h160v-160H620v160ZM180-180h160v-160H180v160Zm440 0h160v-160H620v160Z\"/>\n",
              "  </svg>\n",
              "    </button>\n",
              "\n",
              "  <style>\n",
              "    .colab-df-container {\n",
              "      display:flex;\n",
              "      gap: 12px;\n",
              "    }\n",
              "\n",
              "    .colab-df-convert {\n",
              "      background-color: #E8F0FE;\n",
              "      border: none;\n",
              "      border-radius: 50%;\n",
              "      cursor: pointer;\n",
              "      display: none;\n",
              "      fill: #1967D2;\n",
              "      height: 32px;\n",
              "      padding: 0 0 0 0;\n",
              "      width: 32px;\n",
              "    }\n",
              "\n",
              "    .colab-df-convert:hover {\n",
              "      background-color: #E2EBFA;\n",
              "      box-shadow: 0px 1px 2px rgba(60, 64, 67, 0.3), 0px 1px 3px 1px rgba(60, 64, 67, 0.15);\n",
              "      fill: #174EA6;\n",
              "    }\n",
              "\n",
              "    .colab-df-buttons div {\n",
              "      margin-bottom: 4px;\n",
              "    }\n",
              "\n",
              "    [theme=dark] .colab-df-convert {\n",
              "      background-color: #3B4455;\n",
              "      fill: #D2E3FC;\n",
              "    }\n",
              "\n",
              "    [theme=dark] .colab-df-convert:hover {\n",
              "      background-color: #434B5C;\n",
              "      box-shadow: 0px 1px 3px 1px rgba(0, 0, 0, 0.15);\n",
              "      filter: drop-shadow(0px 1px 2px rgba(0, 0, 0, 0.3));\n",
              "      fill: #FFFFFF;\n",
              "    }\n",
              "  </style>\n",
              "\n",
              "    <script>\n",
              "      const buttonEl =\n",
              "        document.querySelector('#df-1682819b-4b5a-4d0a-81cd-4da5914b1b1c button.colab-df-convert');\n",
              "      buttonEl.style.display =\n",
              "        google.colab.kernel.accessAllowed ? 'block' : 'none';\n",
              "\n",
              "      async function convertToInteractive(key) {\n",
              "        const element = document.querySelector('#df-1682819b-4b5a-4d0a-81cd-4da5914b1b1c');\n",
              "        const dataTable =\n",
              "          await google.colab.kernel.invokeFunction('convertToInteractive',\n",
              "                                                    [key], {});\n",
              "        if (!dataTable) return;\n",
              "\n",
              "        const docLinkHtml = 'Like what you see? Visit the ' +\n",
              "          '<a target=\"_blank\" href=https://colab.research.google.com/notebooks/data_table.ipynb>data table notebook</a>'\n",
              "          + ' to learn more about interactive tables.';\n",
              "        element.innerHTML = '';\n",
              "        dataTable['output_type'] = 'display_data';\n",
              "        await google.colab.output.renderOutput(dataTable, element);\n",
              "        const docLink = document.createElement('div');\n",
              "        docLink.innerHTML = docLinkHtml;\n",
              "        element.appendChild(docLink);\n",
              "      }\n",
              "    </script>\n",
              "  </div>\n",
              "\n",
              "\n",
              "<div id=\"df-6c305658-8d08-441f-a7fe-97d78b8fd3b0\">\n",
              "  <button class=\"colab-df-quickchart\" onclick=\"quickchart('df-6c305658-8d08-441f-a7fe-97d78b8fd3b0')\"\n",
              "            title=\"Suggest charts\"\n",
              "            style=\"display:none;\">\n",
              "\n",
              "<svg xmlns=\"http://www.w3.org/2000/svg\" height=\"24px\"viewBox=\"0 0 24 24\"\n",
              "     width=\"24px\">\n",
              "    <g>\n",
              "        <path d=\"M19 3H5c-1.1 0-2 .9-2 2v14c0 1.1.9 2 2 2h14c1.1 0 2-.9 2-2V5c0-1.1-.9-2-2-2zM9 17H7v-7h2v7zm4 0h-2V7h2v10zm4 0h-2v-4h2v4z\"/>\n",
              "    </g>\n",
              "</svg>\n",
              "  </button>\n",
              "\n",
              "<style>\n",
              "  .colab-df-quickchart {\n",
              "      --bg-color: #E8F0FE;\n",
              "      --fill-color: #1967D2;\n",
              "      --hover-bg-color: #E2EBFA;\n",
              "      --hover-fill-color: #174EA6;\n",
              "      --disabled-fill-color: #AAA;\n",
              "      --disabled-bg-color: #DDD;\n",
              "  }\n",
              "\n",
              "  [theme=dark] .colab-df-quickchart {\n",
              "      --bg-color: #3B4455;\n",
              "      --fill-color: #D2E3FC;\n",
              "      --hover-bg-color: #434B5C;\n",
              "      --hover-fill-color: #FFFFFF;\n",
              "      --disabled-bg-color: #3B4455;\n",
              "      --disabled-fill-color: #666;\n",
              "  }\n",
              "\n",
              "  .colab-df-quickchart {\n",
              "    background-color: var(--bg-color);\n",
              "    border: none;\n",
              "    border-radius: 50%;\n",
              "    cursor: pointer;\n",
              "    display: none;\n",
              "    fill: var(--fill-color);\n",
              "    height: 32px;\n",
              "    padding: 0;\n",
              "    width: 32px;\n",
              "  }\n",
              "\n",
              "  .colab-df-quickchart:hover {\n",
              "    background-color: var(--hover-bg-color);\n",
              "    box-shadow: 0 1px 2px rgba(60, 64, 67, 0.3), 0 1px 3px 1px rgba(60, 64, 67, 0.15);\n",
              "    fill: var(--button-hover-fill-color);\n",
              "  }\n",
              "\n",
              "  .colab-df-quickchart-complete:disabled,\n",
              "  .colab-df-quickchart-complete:disabled:hover {\n",
              "    background-color: var(--disabled-bg-color);\n",
              "    fill: var(--disabled-fill-color);\n",
              "    box-shadow: none;\n",
              "  }\n",
              "\n",
              "  .colab-df-spinner {\n",
              "    border: 2px solid var(--fill-color);\n",
              "    border-color: transparent;\n",
              "    border-bottom-color: var(--fill-color);\n",
              "    animation:\n",
              "      spin 1s steps(1) infinite;\n",
              "  }\n",
              "\n",
              "  @keyframes spin {\n",
              "    0% {\n",
              "      border-color: transparent;\n",
              "      border-bottom-color: var(--fill-color);\n",
              "      border-left-color: var(--fill-color);\n",
              "    }\n",
              "    20% {\n",
              "      border-color: transparent;\n",
              "      border-left-color: var(--fill-color);\n",
              "      border-top-color: var(--fill-color);\n",
              "    }\n",
              "    30% {\n",
              "      border-color: transparent;\n",
              "      border-left-color: var(--fill-color);\n",
              "      border-top-color: var(--fill-color);\n",
              "      border-right-color: var(--fill-color);\n",
              "    }\n",
              "    40% {\n",
              "      border-color: transparent;\n",
              "      border-right-color: var(--fill-color);\n",
              "      border-top-color: var(--fill-color);\n",
              "    }\n",
              "    60% {\n",
              "      border-color: transparent;\n",
              "      border-right-color: var(--fill-color);\n",
              "    }\n",
              "    80% {\n",
              "      border-color: transparent;\n",
              "      border-right-color: var(--fill-color);\n",
              "      border-bottom-color: var(--fill-color);\n",
              "    }\n",
              "    90% {\n",
              "      border-color: transparent;\n",
              "      border-bottom-color: var(--fill-color);\n",
              "    }\n",
              "  }\n",
              "</style>\n",
              "\n",
              "  <script>\n",
              "    async function quickchart(key) {\n",
              "      const quickchartButtonEl =\n",
              "        document.querySelector('#' + key + ' button');\n",
              "      quickchartButtonEl.disabled = true;  // To prevent multiple clicks.\n",
              "      quickchartButtonEl.classList.add('colab-df-spinner');\n",
              "      try {\n",
              "        const charts = await google.colab.kernel.invokeFunction(\n",
              "            'suggestCharts', [key], {});\n",
              "      } catch (error) {\n",
              "        console.error('Error during call to suggestCharts:', error);\n",
              "      }\n",
              "      quickchartButtonEl.classList.remove('colab-df-spinner');\n",
              "      quickchartButtonEl.classList.add('colab-df-quickchart-complete');\n",
              "    }\n",
              "    (() => {\n",
              "      let quickchartButtonEl =\n",
              "        document.querySelector('#df-6c305658-8d08-441f-a7fe-97d78b8fd3b0 button');\n",
              "      quickchartButtonEl.style.display =\n",
              "        google.colab.kernel.accessAllowed ? 'block' : 'none';\n",
              "    })();\n",
              "  </script>\n",
              "</div>\n",
              "\n",
              "    </div>\n",
              "  </div>\n"
            ],
            "application/vnd.google.colaboratory.intrinsic+json": {
              "type": "dataframe",
              "variable_name": "red_wine",
              "summary": "{\n  \"name\": \"red_wine\",\n  \"rows\": 1599,\n  \"fields\": [\n    {\n      \"column\": \"fixed acidity\",\n      \"properties\": {\n        \"dtype\": \"number\",\n        \"std\": 1.7410963181276953,\n        \"min\": 4.6,\n        \"max\": 15.9,\n        \"num_unique_values\": 96,\n        \"samples\": [\n          5.3,\n          12.7,\n          12.6\n        ],\n        \"semantic_type\": \"\",\n        \"description\": \"\"\n      }\n    },\n    {\n      \"column\": \"volatile acidity\",\n      \"properties\": {\n        \"dtype\": \"number\",\n        \"std\": 0.17905970415353537,\n        \"min\": 0.12,\n        \"max\": 1.58,\n        \"num_unique_values\": 143,\n        \"samples\": [\n          1.025,\n          0.4,\n          0.87\n        ],\n        \"semantic_type\": \"\",\n        \"description\": \"\"\n      }\n    },\n    {\n      \"column\": \"citric acid\",\n      \"properties\": {\n        \"dtype\": \"number\",\n        \"std\": 0.19480113740531857,\n        \"min\": 0.0,\n        \"max\": 1.0,\n        \"num_unique_values\": 80,\n        \"samples\": [\n          0.37,\n          0.0,\n          0.09\n        ],\n        \"semantic_type\": \"\",\n        \"description\": \"\"\n      }\n    },\n    {\n      \"column\": \"residual sugar\",\n      \"properties\": {\n        \"dtype\": \"number\",\n        \"std\": 1.4099280595072798,\n        \"min\": 0.9,\n        \"max\": 15.5,\n        \"num_unique_values\": 91,\n        \"samples\": [\n          11.0,\n          3.0,\n          15.5\n        ],\n        \"semantic_type\": \"\",\n        \"description\": \"\"\n      }\n    },\n    {\n      \"column\": \"chlorides\",\n      \"properties\": {\n        \"dtype\": \"number\",\n        \"std\": 0.0470653020100901,\n        \"min\": 0.012,\n        \"max\": 0.611,\n        \"num_unique_values\": 153,\n        \"samples\": [\n          0.096,\n          0.3429999999999999,\n          0.159\n        ],\n        \"semantic_type\": \"\",\n        \"description\": \"\"\n      }\n    },\n    {\n      \"column\": \"free sulfur dioxide\",\n      \"properties\": {\n        \"dtype\": \"number\",\n        \"std\": 10.460156969809725,\n        \"min\": 1.0,\n        \"max\": 72.0,\n        \"num_unique_values\": 60,\n        \"samples\": [\n          11.0,\n          9.0,\n          32.0\n        ],\n        \"semantic_type\": \"\",\n        \"description\": \"\"\n      }\n    },\n    {\n      \"column\": \"total sulfur dioxide\",\n      \"properties\": {\n        \"dtype\": \"number\",\n        \"std\": 32.895324478299074,\n        \"min\": 6.0,\n        \"max\": 289.0,\n        \"num_unique_values\": 144,\n        \"samples\": [\n          68.0,\n          35.0,\n          101.0\n        ],\n        \"semantic_type\": \"\",\n        \"description\": \"\"\n      }\n    },\n    {\n      \"column\": \"density\",\n      \"properties\": {\n        \"dtype\": \"number\",\n        \"std\": 0.0018873339538425554,\n        \"min\": 0.99007,\n        \"max\": 1.00369,\n        \"num_unique_values\": 436,\n        \"samples\": [\n          0.99974,\n          1.0001,\n          0.99471\n        ],\n        \"semantic_type\": \"\",\n        \"description\": \"\"\n      }\n    },\n    {\n      \"column\": \"pH\",\n      \"properties\": {\n        \"dtype\": \"number\",\n        \"std\": 0.15438646490354277,\n        \"min\": 2.74,\n        \"max\": 4.01,\n        \"num_unique_values\": 89,\n        \"samples\": [\n          3.07,\n          3.0,\n          3.15\n        ],\n        \"semantic_type\": \"\",\n        \"description\": \"\"\n      }\n    },\n    {\n      \"column\": \"sulphates\",\n      \"properties\": {\n        \"dtype\": \"number\",\n        \"std\": 0.16950697959010996,\n        \"min\": 0.33,\n        \"max\": 2.0,\n        \"num_unique_values\": 96,\n        \"samples\": [\n          1.07,\n          1.04,\n          1.18\n        ],\n        \"semantic_type\": \"\",\n        \"description\": \"\"\n      }\n    },\n    {\n      \"column\": \"alcohol\",\n      \"properties\": {\n        \"dtype\": \"number\",\n        \"std\": 1.0656675818473946,\n        \"min\": 8.4,\n        \"max\": 14.9,\n        \"num_unique_values\": 65,\n        \"samples\": [\n          8.5,\n          9.95,\n          9.4\n        ],\n        \"semantic_type\": \"\",\n        \"description\": \"\"\n      }\n    },\n    {\n      \"column\": \"quality\",\n      \"properties\": {\n        \"dtype\": \"number\",\n        \"std\": 0,\n        \"min\": 3,\n        \"max\": 8,\n        \"num_unique_values\": 6,\n        \"samples\": [\n          5,\n          6,\n          3\n        ],\n        \"semantic_type\": \"\",\n        \"description\": \"\"\n      }\n    }\n  ]\n}"
            }
          },
          "metadata": {},
          "execution_count": 6
        }
      ]
    },
    {
      "cell_type": "code",
      "source": [
        "# 3.1\n",
        "red_wine.shape   # (1599, 12)\n",
        "red_wine.dtypes"
      ],
      "metadata": {
        "colab": {
          "base_uri": "https://localhost:8080/"
        },
        "id": "xjjJOhKio9PW",
        "outputId": "a20458f2-61c9-4d53-ebf7-a38d25a38882"
      },
      "execution_count": 7,
      "outputs": [
        {
          "output_type": "execute_result",
          "data": {
            "text/plain": [
              "(1599, 12)"
            ]
          },
          "metadata": {},
          "execution_count": 7
        },
        {
          "output_type": "execute_result",
          "data": {
            "text/plain": [
              "fixed acidity           float64\n",
              "volatile acidity        float64\n",
              "citric acid             float64\n",
              "residual sugar          float64\n",
              "chlorides               float64\n",
              "free sulfur dioxide     float64\n",
              "total sulfur dioxide    float64\n",
              "density                 float64\n",
              "pH                      float64\n",
              "sulphates               float64\n",
              "alcohol                 float64\n",
              "quality                   int64\n",
              "dtype: object"
            ]
          },
          "metadata": {},
          "execution_count": 7
        }
      ]
    },
    {
      "cell_type": "code",
      "source": [
        "# prompt: For the dataset red_wine please let me know if there is any correlation between 'residual sugar'and 'alcohol'\n",
        "\n",
        "correlation = red_wine['residual sugar'].corr(red_wine['alcohol'])\n",
        "print(f\"Correlation between residual sugar and alcohol: {correlation}\")\n"
      ],
      "metadata": {
        "colab": {
          "base_uri": "https://localhost:8080/"
        },
        "id": "qkhQ25Uyqgio",
        "outputId": "73a60367-5ac3-4ae8-db94-a1bff47855db"
      },
      "execution_count": 8,
      "outputs": [
        {
          "output_type": "stream",
          "name": "stdout",
          "text": [
            "Correlation between residual sugar and alcohol: 0.04207543720973102\n"
          ]
        }
      ]
    },
    {
      "cell_type": "markdown",
      "source": [
        "#C2- ASHOK HARNAL #\n"
      ],
      "metadata": {
        "id": "-vPRqjIBw8HX"
      }
    },
    {
      "cell_type": "code",
      "source": [
        "# 3.2 Get target and predictors:\n",
        "y = red_wine.pop(\"quality\")\n",
        "X = red_wine"
      ],
      "metadata": {
        "id": "IFOWvf4RxCJx"
      },
      "execution_count": 9,
      "outputs": []
    },
    {
      "cell_type": "code",
      "source": [
        "# 4.0 Build model:\n",
        "\n",
        "model = tf.keras.Sequential()"
      ],
      "metadata": {
        "id": "Lvdi46AY6xLV"
      },
      "execution_count": 10,
      "outputs": []
    },
    {
      "cell_type": "code",
      "source": [
        "# 4.1\n",
        "model.add(layers.Input( shape = (11,) ) )\n"
      ],
      "metadata": {
        "id": "-FfOsl3p60UM"
      },
      "execution_count": 11,
      "outputs": []
    },
    {
      "cell_type": "code",
      "source": [
        "# 4.2\n",
        "model.add(layers.Dense(1))"
      ],
      "metadata": {
        "id": "CZuT51lG62xg"
      },
      "execution_count": 12,
      "outputs": []
    },
    {
      "cell_type": "code",
      "source": [
        "# 1.0 Call libraries\n",
        "import pandas as pd\n",
        "import numpy as np\n",
        "from  pathlib import Path\n",
        "\n",
        "# 1.0.1\n",
        "import tensorflow as tf\n",
        "from tensorflow import keras\n",
        "from tensorflow.keras import layers"
      ],
      "metadata": {
        "id": "dqNVw1LH66mB"
      },
      "execution_count": 13,
      "outputs": []
    },
    {
      "cell_type": "code",
      "source": [
        "# 4.2.1\n",
        "weights, bias = model.weights"
      ],
      "metadata": {
        "id": "EtkygRJ8683s"
      },
      "execution_count": 14,
      "outputs": []
    },
    {
      "cell_type": "code",
      "source": [
        "# 4.2.2\n",
        "weights"
      ],
      "metadata": {
        "colab": {
          "base_uri": "https://localhost:8080/"
        },
        "id": "6rGbQ_Lt6_1p",
        "outputId": "6409aa4a-b41b-4dd0-d14f-78bba9dbae09"
      },
      "execution_count": 15,
      "outputs": [
        {
          "output_type": "execute_result",
          "data": {
            "text/plain": [
              "<tf.Variable 'dense/kernel:0' shape=(11, 1) dtype=float32, numpy=\n",
              "array([[-0.1360994 ],\n",
              "       [ 0.5397691 ],\n",
              "       [ 0.55101556],\n",
              "       [-0.30292323],\n",
              "       [-0.30726486],\n",
              "       [-0.6921148 ],\n",
              "       [-0.24317634],\n",
              "       [ 0.21852064],\n",
              "       [ 0.67979497],\n",
              "       [-0.2694578 ],\n",
              "       [-0.6448023 ]], dtype=float32)>"
            ]
          },
          "metadata": {},
          "execution_count": 15
        }
      ]
    },
    {
      "cell_type": "code",
      "source": [
        "# 4.2.3\n",
        "bias"
      ],
      "metadata": {
        "colab": {
          "base_uri": "https://localhost:8080/"
        },
        "id": "Q1-Jccyr7CaP",
        "outputId": "458559ef-0067-4166-dbcf-8130cab57a52"
      },
      "execution_count": 16,
      "outputs": [
        {
          "output_type": "execute_result",
          "data": {
            "text/plain": [
              "<tf.Variable 'dense/bias:0' shape=(1,) dtype=float32, numpy=array([0.], dtype=float32)>"
            ]
          },
          "metadata": {},
          "execution_count": 16
        }
      ]
    },
    {
      "cell_type": "code",
      "source": [
        "#4.3 Compile\n",
        "model.compile( loss = \"mae\")"
      ],
      "metadata": {
        "id": "QLxm5FcZ7FYM"
      },
      "execution_count": 17,
      "outputs": []
    },
    {
      "cell_type": "code",
      "source": [
        "# 4.4 Train\n",
        "model.fit(X,y, epochs = 100 )"
      ],
      "metadata": {
        "colab": {
          "base_uri": "https://localhost:8080/"
        },
        "id": "wG7vmwi07HWg",
        "outputId": "318fb408-067c-49c3-b8b0-c768cabb0013"
      },
      "execution_count": 18,
      "outputs": [
        {
          "output_type": "stream",
          "name": "stdout",
          "text": [
            "Epoch 1/100\n",
            "50/50 [==============================] - 1s 2ms/step - loss: 30.9058\n",
            "Epoch 2/100\n",
            "50/50 [==============================] - 0s 2ms/step - loss: 26.3022\n",
            "Epoch 3/100\n",
            "50/50 [==============================] - 0s 2ms/step - loss: 21.8150\n",
            "Epoch 4/100\n",
            "50/50 [==============================] - 0s 2ms/step - loss: 17.3204\n",
            "Epoch 5/100\n",
            "50/50 [==============================] - 0s 2ms/step - loss: 12.8112\n",
            "Epoch 6/100\n",
            "50/50 [==============================] - 0s 2ms/step - loss: 8.3494\n",
            "Epoch 7/100\n",
            "50/50 [==============================] - 0s 2ms/step - loss: 4.3096\n",
            "Epoch 8/100\n",
            "50/50 [==============================] - 0s 2ms/step - loss: 2.6685\n",
            "Epoch 9/100\n",
            "50/50 [==============================] - 0s 2ms/step - loss: 2.2346\n",
            "Epoch 10/100\n",
            "50/50 [==============================] - 0s 2ms/step - loss: 1.9111\n",
            "Epoch 11/100\n",
            "50/50 [==============================] - 0s 2ms/step - loss: 1.6370\n",
            "Epoch 12/100\n",
            "50/50 [==============================] - 0s 2ms/step - loss: 1.4253\n",
            "Epoch 13/100\n",
            "50/50 [==============================] - 0s 2ms/step - loss: 1.2291\n",
            "Epoch 14/100\n",
            "50/50 [==============================] - 0s 2ms/step - loss: 1.0673\n",
            "Epoch 15/100\n",
            "50/50 [==============================] - 0s 3ms/step - loss: 0.9297\n",
            "Epoch 16/100\n",
            "50/50 [==============================] - 0s 2ms/step - loss: 0.8285\n",
            "Epoch 17/100\n",
            "50/50 [==============================] - 0s 2ms/step - loss: 0.7581\n",
            "Epoch 18/100\n",
            "50/50 [==============================] - 0s 2ms/step - loss: 0.7283\n",
            "Epoch 19/100\n",
            "50/50 [==============================] - 0s 2ms/step - loss: 0.7133\n",
            "Epoch 20/100\n",
            "50/50 [==============================] - 0s 2ms/step - loss: 0.7020\n",
            "Epoch 21/100\n",
            "50/50 [==============================] - 0s 2ms/step - loss: 0.6922\n",
            "Epoch 22/100\n",
            "50/50 [==============================] - 0s 2ms/step - loss: 0.6823\n",
            "Epoch 23/100\n",
            "50/50 [==============================] - 0s 2ms/step - loss: 0.6759\n",
            "Epoch 24/100\n",
            "50/50 [==============================] - 0s 2ms/step - loss: 0.6664\n",
            "Epoch 25/100\n",
            "50/50 [==============================] - 0s 2ms/step - loss: 0.6611\n",
            "Epoch 26/100\n",
            "50/50 [==============================] - 0s 2ms/step - loss: 0.6594\n",
            "Epoch 27/100\n",
            "50/50 [==============================] - 0s 2ms/step - loss: 0.6481\n",
            "Epoch 28/100\n",
            "50/50 [==============================] - 0s 2ms/step - loss: 0.6428\n",
            "Epoch 29/100\n",
            "50/50 [==============================] - 0s 2ms/step - loss: 0.6370\n",
            "Epoch 30/100\n",
            "50/50 [==============================] - 0s 2ms/step - loss: 0.6317\n",
            "Epoch 31/100\n",
            "50/50 [==============================] - 0s 2ms/step - loss: 0.6289\n",
            "Epoch 32/100\n",
            "50/50 [==============================] - 0s 2ms/step - loss: 0.6250\n",
            "Epoch 33/100\n",
            "50/50 [==============================] - 0s 2ms/step - loss: 0.6233\n",
            "Epoch 34/100\n",
            "50/50 [==============================] - 0s 2ms/step - loss: 0.6160\n",
            "Epoch 35/100\n",
            "50/50 [==============================] - 0s 2ms/step - loss: 0.6161\n",
            "Epoch 36/100\n",
            "50/50 [==============================] - 0s 2ms/step - loss: 0.6139\n",
            "Epoch 37/100\n",
            "50/50 [==============================] - 0s 2ms/step - loss: 0.6106\n",
            "Epoch 38/100\n",
            "50/50 [==============================] - 0s 2ms/step - loss: 0.6064\n",
            "Epoch 39/100\n",
            "50/50 [==============================] - 0s 2ms/step - loss: 0.6028\n",
            "Epoch 40/100\n",
            "50/50 [==============================] - 0s 2ms/step - loss: 0.6020\n",
            "Epoch 41/100\n",
            "50/50 [==============================] - 0s 3ms/step - loss: 0.5992\n",
            "Epoch 42/100\n",
            "50/50 [==============================] - 0s 3ms/step - loss: 0.5979\n",
            "Epoch 43/100\n",
            "50/50 [==============================] - 0s 2ms/step - loss: 0.5940\n",
            "Epoch 44/100\n",
            "50/50 [==============================] - 0s 2ms/step - loss: 0.5914\n",
            "Epoch 45/100\n",
            "50/50 [==============================] - 0s 2ms/step - loss: 0.5902\n",
            "Epoch 46/100\n",
            "50/50 [==============================] - 0s 1ms/step - loss: 0.5906\n",
            "Epoch 47/100\n",
            "50/50 [==============================] - 0s 1ms/step - loss: 0.5860\n",
            "Epoch 48/100\n",
            "50/50 [==============================] - 0s 1ms/step - loss: 0.5832\n",
            "Epoch 49/100\n",
            "50/50 [==============================] - 0s 1ms/step - loss: 0.5840\n",
            "Epoch 50/100\n",
            "50/50 [==============================] - 0s 1ms/step - loss: 0.5816\n",
            "Epoch 51/100\n",
            "50/50 [==============================] - 0s 2ms/step - loss: 0.5825\n",
            "Epoch 52/100\n",
            "50/50 [==============================] - 0s 2ms/step - loss: 0.5777\n",
            "Epoch 53/100\n",
            "50/50 [==============================] - 0s 2ms/step - loss: 0.5779\n",
            "Epoch 54/100\n",
            "50/50 [==============================] - 0s 1ms/step - loss: 0.5753\n",
            "Epoch 55/100\n",
            "50/50 [==============================] - 0s 1ms/step - loss: 0.5766\n",
            "Epoch 56/100\n",
            "50/50 [==============================] - 0s 1ms/step - loss: 0.5750\n",
            "Epoch 57/100\n",
            "50/50 [==============================] - 0s 1ms/step - loss: 0.5740\n",
            "Epoch 58/100\n",
            "50/50 [==============================] - 0s 1ms/step - loss: 0.5713\n",
            "Epoch 59/100\n",
            "50/50 [==============================] - 0s 1ms/step - loss: 0.5679\n",
            "Epoch 60/100\n",
            "50/50 [==============================] - 0s 1ms/step - loss: 0.5701\n",
            "Epoch 61/100\n",
            "50/50 [==============================] - 0s 1ms/step - loss: 0.5688\n",
            "Epoch 62/100\n",
            "50/50 [==============================] - 0s 1ms/step - loss: 0.5689\n",
            "Epoch 63/100\n",
            "50/50 [==============================] - 0s 1ms/step - loss: 0.5668\n",
            "Epoch 64/100\n",
            "50/50 [==============================] - 0s 2ms/step - loss: 0.5653\n",
            "Epoch 65/100\n",
            "50/50 [==============================] - 0s 2ms/step - loss: 0.5692\n",
            "Epoch 66/100\n",
            "50/50 [==============================] - 0s 2ms/step - loss: 0.5645\n",
            "Epoch 67/100\n",
            "50/50 [==============================] - 0s 2ms/step - loss: 0.5680\n",
            "Epoch 68/100\n",
            "50/50 [==============================] - 0s 1ms/step - loss: 0.5621\n",
            "Epoch 69/100\n",
            "50/50 [==============================] - 0s 1ms/step - loss: 0.5614\n",
            "Epoch 70/100\n",
            "50/50 [==============================] - 0s 1ms/step - loss: 0.5596\n",
            "Epoch 71/100\n",
            "50/50 [==============================] - 0s 1ms/step - loss: 0.5590\n",
            "Epoch 72/100\n",
            "50/50 [==============================] - 0s 1ms/step - loss: 0.5582\n",
            "Epoch 73/100\n",
            "50/50 [==============================] - 0s 1ms/step - loss: 0.5581\n",
            "Epoch 74/100\n",
            "50/50 [==============================] - 0s 1ms/step - loss: 0.5546\n",
            "Epoch 75/100\n",
            "50/50 [==============================] - 0s 1ms/step - loss: 0.5549\n",
            "Epoch 76/100\n",
            "50/50 [==============================] - 0s 1ms/step - loss: 0.5550\n",
            "Epoch 77/100\n",
            "50/50 [==============================] - 0s 2ms/step - loss: 0.5520\n",
            "Epoch 78/100\n",
            "50/50 [==============================] - 0s 2ms/step - loss: 0.5529\n",
            "Epoch 79/100\n",
            "50/50 [==============================] - 0s 2ms/step - loss: 0.5510\n",
            "Epoch 80/100\n",
            "50/50 [==============================] - 0s 1ms/step - loss: 0.5499\n",
            "Epoch 81/100\n",
            "50/50 [==============================] - 0s 1ms/step - loss: 0.5501\n",
            "Epoch 82/100\n",
            "50/50 [==============================] - 0s 1ms/step - loss: 0.5483\n",
            "Epoch 83/100\n",
            "50/50 [==============================] - 0s 1ms/step - loss: 0.5475\n",
            "Epoch 84/100\n",
            "50/50 [==============================] - 0s 1ms/step - loss: 0.5486\n",
            "Epoch 85/100\n",
            "50/50 [==============================] - 0s 1ms/step - loss: 0.5467\n",
            "Epoch 86/100\n",
            "50/50 [==============================] - 0s 1ms/step - loss: 0.5478\n",
            "Epoch 87/100\n",
            "50/50 [==============================] - 0s 1ms/step - loss: 0.5467\n",
            "Epoch 88/100\n",
            "50/50 [==============================] - 0s 1ms/step - loss: 0.5438\n",
            "Epoch 89/100\n",
            "50/50 [==============================] - 0s 1ms/step - loss: 0.5448\n",
            "Epoch 90/100\n",
            "50/50 [==============================] - 0s 2ms/step - loss: 0.5436\n",
            "Epoch 91/100\n",
            "50/50 [==============================] - 0s 2ms/step - loss: 0.5437\n",
            "Epoch 92/100\n",
            "50/50 [==============================] - 0s 2ms/step - loss: 0.5418\n",
            "Epoch 93/100\n",
            "50/50 [==============================] - 0s 1ms/step - loss: 0.5397\n",
            "Epoch 94/100\n",
            "50/50 [==============================] - 0s 1ms/step - loss: 0.5403\n",
            "Epoch 95/100\n",
            "50/50 [==============================] - 0s 1ms/step - loss: 0.5417\n",
            "Epoch 96/100\n",
            "50/50 [==============================] - 0s 1ms/step - loss: 0.5390\n",
            "Epoch 97/100\n",
            "50/50 [==============================] - 0s 1ms/step - loss: 0.5382\n",
            "Epoch 98/100\n",
            "50/50 [==============================] - 0s 1ms/step - loss: 0.5388\n",
            "Epoch 99/100\n",
            "50/50 [==============================] - 0s 1ms/step - loss: 0.5363\n",
            "Epoch 100/100\n",
            "50/50 [==============================] - 0s 1ms/step - loss: 0.5380\n"
          ]
        },
        {
          "output_type": "execute_result",
          "data": {
            "text/plain": [
              "<keras.src.callbacks.History at 0x7c015a4f7610>"
            ]
          },
          "metadata": {},
          "execution_count": 18
        }
      ]
    },
    {
      "cell_type": "code",
      "source": [
        "# 5.0 Predict\n",
        "pred = model.predict(X)"
      ],
      "metadata": {
        "colab": {
          "base_uri": "https://localhost:8080/"
        },
        "id": "Arr4FtMV7Jnr",
        "outputId": "46feb3e9-0675-4a94-f9ad-42a5bba7ada2"
      },
      "execution_count": 19,
      "outputs": [
        {
          "output_type": "stream",
          "name": "stdout",
          "text": [
            "50/50 [==============================] - 0s 2ms/step\n"
          ]
        }
      ]
    },
    {
      "cell_type": "code",
      "source": [
        "# 5.1 Round up decimal places\n",
        "pred = np.round(pred)\n"
      ],
      "metadata": {
        "id": "IkZ7_GHZ7WxO"
      },
      "execution_count": 20,
      "outputs": []
    },
    {
      "cell_type": "code",
      "source": [
        "# 5.1.1\n",
        "y.shape"
      ],
      "metadata": {
        "colab": {
          "base_uri": "https://localhost:8080/"
        },
        "id": "hiGRZVim7bGW",
        "outputId": "1ba64008-4a8f-4166-8cf4-ec8f196df1f1"
      },
      "execution_count": 21,
      "outputs": [
        {
          "output_type": "execute_result",
          "data": {
            "text/plain": [
              "(1599,)"
            ]
          },
          "metadata": {},
          "execution_count": 21
        }
      ]
    },
    {
      "cell_type": "code",
      "source": [
        "# 5.2 Compare:\n",
        "np.sum(pred == y.values.reshape(1599,1))/1599"
      ],
      "metadata": {
        "colab": {
          "base_uri": "https://localhost:8080/"
        },
        "id": "b8LIzMcC7etv",
        "outputId": "079b6689-40ef-48cd-fddd-ae90a703cfec"
      },
      "execution_count": 22,
      "outputs": [
        {
          "output_type": "execute_result",
          "data": {
            "text/plain": [
              "0.5528455284552846"
            ]
          },
          "metadata": {},
          "execution_count": 22
        }
      ]
    },
    {
      "cell_type": "code",
      "source": [],
      "metadata": {
        "id": "KngYiyTb7hqd"
      },
      "execution_count": null,
      "outputs": []
    }
  ]
}