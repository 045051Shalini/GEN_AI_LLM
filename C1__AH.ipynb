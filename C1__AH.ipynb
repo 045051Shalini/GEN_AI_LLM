{
  "nbformat": 4,
  "nbformat_minor": 0,
  "metadata": {
    "colab": {
      "provenance": [],
      "authorship_tag": "ABX9TyMKAiXlc+06B+zrM6SBaK2Z",
      "include_colab_link": true
    },
    "kernelspec": {
      "name": "python3",
      "display_name": "Python 3"
    },
    "language_info": {
      "name": "python"
    }
  },
  "cells": [
    {
      "cell_type": "markdown",
      "metadata": {
        "id": "view-in-github",
        "colab_type": "text"
      },
      "source": [
        "<a href=\"https://colab.research.google.com/github/045051Shalini/GEN_AI_LLM/blob/main/C1__AH.ipynb\" target=\"_parent\"><img src=\"https://colab.research.google.com/assets/colab-badge.svg\" alt=\"Open In Colab\"/></a>"
      ]
    },
    {
      "cell_type": "markdown",
      "source": [
        "#C1 -ASHOK HARNAL#"
      ],
      "metadata": {
        "id": "6rHiju2jxGAJ"
      }
    },
    {
      "cell_type": "code",
      "source": [
        "# 1.0 Call libraries\n",
        "import pandas as pd\n",
        "import numpy as np\n",
        "from  pathlib import Path\n",
        "\n",
        "# 1.0.1\n",
        "import tensorflow as tf\n",
        "from tensorflow import keras\n",
        "from tensorflow.keras import layers"
      ],
      "metadata": {
        "id": "PRzN6GM8grI3"
      },
      "execution_count": null,
      "outputs": []
    },
    {
      "cell_type": "code",
      "source": [
        "# 1.1 Display multiple commands output from a cell\n",
        "from IPython.core.interactiveshell import InteractiveShell\n",
        "InteractiveShell.ast_node_interactivity = \"all\""
      ],
      "metadata": {
        "id": "Dn6X9BOPmVH3"
      },
      "execution_count": null,
      "outputs": []
    },
    {
      "cell_type": "code",
      "source": [
        "# 2.0\n",
        "from google.colab import drive\n",
        "drive.mount('/gdrive')"
      ],
      "metadata": {
        "colab": {
          "base_uri": "https://localhost:8080/"
        },
        "id": "8tfnLyKemmy9",
        "outputId": "81ce5a13-b8c7-4a1c-883c-34c73c1d8fb3"
      },
      "execution_count": null,
      "outputs": [
        {
          "output_type": "stream",
          "name": "stdout",
          "text": [
            "Drive already mounted at /gdrive; to attempt to forcibly remount, call drive.mount(\"/gdrive\", force_remount=True).\n"
          ]
        }
      ]
    },
    {
      "cell_type": "code",
      "source": [
        "# 2.1 Where is our data file:\n",
        "pathToFolder = \"/gdrive/MyDrive/deeplearning\""
      ],
      "metadata": {
        "id": "mCUIVDOymrj-"
      },
      "execution_count": null,
      "outputs": []
    },
    {
      "cell_type": "code",
      "source": [
        "# 2.2 Full file path:\n",
        "path = Path(pathToFolder) / \"red_wine.csv\""
      ],
      "metadata": {
        "id": "5JuhcTzZnDFD"
      },
      "execution_count": null,
      "outputs": []
    },
    {
      "cell_type": "code",
      "source": [
        "# 3.0 Read data\n",
        "red_wine = pd.read_csv(path)\n",
        "red_wine.head()"
      ],
      "metadata": {
        "colab": {
          "base_uri": "https://localhost:8080/",
          "height": 223
        },
        "id": "nlfePgqyni9C",
        "outputId": "745a3808-3467-4ed7-ee83-a17c11dd207f"
      },
      "execution_count": null,
      "outputs": [
        {
          "output_type": "execute_result",
          "data": {
            "text/plain": [
              "   fixed acidity  volatile acidity  citric acid  residual sugar  chlorides  \\\n",
              "0            7.4              0.70         0.00             1.9      0.076   \n",
              "1            7.8              0.88         0.00             2.6      0.098   \n",
              "2            7.8              0.76         0.04             2.3      0.092   \n",
              "3           11.2              0.28         0.56             1.9      0.075   \n",
              "4            7.4              0.70         0.00             1.9      0.076   \n",
              "\n",
              "   free sulfur dioxide  total sulfur dioxide  density    pH  sulphates  \\\n",
              "0                 11.0                  34.0   0.9978  3.51       0.56   \n",
              "1                 25.0                  67.0   0.9968  3.20       0.68   \n",
              "2                 15.0                  54.0   0.9970  3.26       0.65   \n",
              "3                 17.0                  60.0   0.9980  3.16       0.58   \n",
              "4                 11.0                  34.0   0.9978  3.51       0.56   \n",
              "\n",
              "   alcohol  quality  \n",
              "0      9.4        5  \n",
              "1      9.8        5  \n",
              "2      9.8        5  \n",
              "3      9.8        6  \n",
              "4      9.4        5  "
            ],
            "text/html": [
              "\n",
              "  <div id=\"df-c6b2df6a-7b46-4a67-ba88-83a0f2884fff\" class=\"colab-df-container\">\n",
              "    <div>\n",
              "<style scoped>\n",
              "    .dataframe tbody tr th:only-of-type {\n",
              "        vertical-align: middle;\n",
              "    }\n",
              "\n",
              "    .dataframe tbody tr th {\n",
              "        vertical-align: top;\n",
              "    }\n",
              "\n",
              "    .dataframe thead th {\n",
              "        text-align: right;\n",
              "    }\n",
              "</style>\n",
              "<table border=\"1\" class=\"dataframe\">\n",
              "  <thead>\n",
              "    <tr style=\"text-align: right;\">\n",
              "      <th></th>\n",
              "      <th>fixed acidity</th>\n",
              "      <th>volatile acidity</th>\n",
              "      <th>citric acid</th>\n",
              "      <th>residual sugar</th>\n",
              "      <th>chlorides</th>\n",
              "      <th>free sulfur dioxide</th>\n",
              "      <th>total sulfur dioxide</th>\n",
              "      <th>density</th>\n",
              "      <th>pH</th>\n",
              "      <th>sulphates</th>\n",
              "      <th>alcohol</th>\n",
              "      <th>quality</th>\n",
              "    </tr>\n",
              "  </thead>\n",
              "  <tbody>\n",
              "    <tr>\n",
              "      <th>0</th>\n",
              "      <td>7.4</td>\n",
              "      <td>0.70</td>\n",
              "      <td>0.00</td>\n",
              "      <td>1.9</td>\n",
              "      <td>0.076</td>\n",
              "      <td>11.0</td>\n",
              "      <td>34.0</td>\n",
              "      <td>0.9978</td>\n",
              "      <td>3.51</td>\n",
              "      <td>0.56</td>\n",
              "      <td>9.4</td>\n",
              "      <td>5</td>\n",
              "    </tr>\n",
              "    <tr>\n",
              "      <th>1</th>\n",
              "      <td>7.8</td>\n",
              "      <td>0.88</td>\n",
              "      <td>0.00</td>\n",
              "      <td>2.6</td>\n",
              "      <td>0.098</td>\n",
              "      <td>25.0</td>\n",
              "      <td>67.0</td>\n",
              "      <td>0.9968</td>\n",
              "      <td>3.20</td>\n",
              "      <td>0.68</td>\n",
              "      <td>9.8</td>\n",
              "      <td>5</td>\n",
              "    </tr>\n",
              "    <tr>\n",
              "      <th>2</th>\n",
              "      <td>7.8</td>\n",
              "      <td>0.76</td>\n",
              "      <td>0.04</td>\n",
              "      <td>2.3</td>\n",
              "      <td>0.092</td>\n",
              "      <td>15.0</td>\n",
              "      <td>54.0</td>\n",
              "      <td>0.9970</td>\n",
              "      <td>3.26</td>\n",
              "      <td>0.65</td>\n",
              "      <td>9.8</td>\n",
              "      <td>5</td>\n",
              "    </tr>\n",
              "    <tr>\n",
              "      <th>3</th>\n",
              "      <td>11.2</td>\n",
              "      <td>0.28</td>\n",
              "      <td>0.56</td>\n",
              "      <td>1.9</td>\n",
              "      <td>0.075</td>\n",
              "      <td>17.0</td>\n",
              "      <td>60.0</td>\n",
              "      <td>0.9980</td>\n",
              "      <td>3.16</td>\n",
              "      <td>0.58</td>\n",
              "      <td>9.8</td>\n",
              "      <td>6</td>\n",
              "    </tr>\n",
              "    <tr>\n",
              "      <th>4</th>\n",
              "      <td>7.4</td>\n",
              "      <td>0.70</td>\n",
              "      <td>0.00</td>\n",
              "      <td>1.9</td>\n",
              "      <td>0.076</td>\n",
              "      <td>11.0</td>\n",
              "      <td>34.0</td>\n",
              "      <td>0.9978</td>\n",
              "      <td>3.51</td>\n",
              "      <td>0.56</td>\n",
              "      <td>9.4</td>\n",
              "      <td>5</td>\n",
              "    </tr>\n",
              "  </tbody>\n",
              "</table>\n",
              "</div>\n",
              "    <div class=\"colab-df-buttons\">\n",
              "\n",
              "  <div class=\"colab-df-container\">\n",
              "    <button class=\"colab-df-convert\" onclick=\"convertToInteractive('df-c6b2df6a-7b46-4a67-ba88-83a0f2884fff')\"\n",
              "            title=\"Convert this dataframe to an interactive table.\"\n",
              "            style=\"display:none;\">\n",
              "\n",
              "  <svg xmlns=\"http://www.w3.org/2000/svg\" height=\"24px\" viewBox=\"0 -960 960 960\">\n",
              "    <path d=\"M120-120v-720h720v720H120Zm60-500h600v-160H180v160Zm220 220h160v-160H400v160Zm0 220h160v-160H400v160ZM180-400h160v-160H180v160Zm440 0h160v-160H620v160ZM180-180h160v-160H180v160Zm440 0h160v-160H620v160Z\"/>\n",
              "  </svg>\n",
              "    </button>\n",
              "\n",
              "  <style>\n",
              "    .colab-df-container {\n",
              "      display:flex;\n",
              "      gap: 12px;\n",
              "    }\n",
              "\n",
              "    .colab-df-convert {\n",
              "      background-color: #E8F0FE;\n",
              "      border: none;\n",
              "      border-radius: 50%;\n",
              "      cursor: pointer;\n",
              "      display: none;\n",
              "      fill: #1967D2;\n",
              "      height: 32px;\n",
              "      padding: 0 0 0 0;\n",
              "      width: 32px;\n",
              "    }\n",
              "\n",
              "    .colab-df-convert:hover {\n",
              "      background-color: #E2EBFA;\n",
              "      box-shadow: 0px 1px 2px rgba(60, 64, 67, 0.3), 0px 1px 3px 1px rgba(60, 64, 67, 0.15);\n",
              "      fill: #174EA6;\n",
              "    }\n",
              "\n",
              "    .colab-df-buttons div {\n",
              "      margin-bottom: 4px;\n",
              "    }\n",
              "\n",
              "    [theme=dark] .colab-df-convert {\n",
              "      background-color: #3B4455;\n",
              "      fill: #D2E3FC;\n",
              "    }\n",
              "\n",
              "    [theme=dark] .colab-df-convert:hover {\n",
              "      background-color: #434B5C;\n",
              "      box-shadow: 0px 1px 3px 1px rgba(0, 0, 0, 0.15);\n",
              "      filter: drop-shadow(0px 1px 2px rgba(0, 0, 0, 0.3));\n",
              "      fill: #FFFFFF;\n",
              "    }\n",
              "  </style>\n",
              "\n",
              "    <script>\n",
              "      const buttonEl =\n",
              "        document.querySelector('#df-c6b2df6a-7b46-4a67-ba88-83a0f2884fff button.colab-df-convert');\n",
              "      buttonEl.style.display =\n",
              "        google.colab.kernel.accessAllowed ? 'block' : 'none';\n",
              "\n",
              "      async function convertToInteractive(key) {\n",
              "        const element = document.querySelector('#df-c6b2df6a-7b46-4a67-ba88-83a0f2884fff');\n",
              "        const dataTable =\n",
              "          await google.colab.kernel.invokeFunction('convertToInteractive',\n",
              "                                                    [key], {});\n",
              "        if (!dataTable) return;\n",
              "\n",
              "        const docLinkHtml = 'Like what you see? Visit the ' +\n",
              "          '<a target=\"_blank\" href=https://colab.research.google.com/notebooks/data_table.ipynb>data table notebook</a>'\n",
              "          + ' to learn more about interactive tables.';\n",
              "        element.innerHTML = '';\n",
              "        dataTable['output_type'] = 'display_data';\n",
              "        await google.colab.output.renderOutput(dataTable, element);\n",
              "        const docLink = document.createElement('div');\n",
              "        docLink.innerHTML = docLinkHtml;\n",
              "        element.appendChild(docLink);\n",
              "      }\n",
              "    </script>\n",
              "  </div>\n",
              "\n",
              "\n",
              "<div id=\"df-7177f355-8c85-4472-ab74-fd72be59efc5\">\n",
              "  <button class=\"colab-df-quickchart\" onclick=\"quickchart('df-7177f355-8c85-4472-ab74-fd72be59efc5')\"\n",
              "            title=\"Suggest charts\"\n",
              "            style=\"display:none;\">\n",
              "\n",
              "<svg xmlns=\"http://www.w3.org/2000/svg\" height=\"24px\"viewBox=\"0 0 24 24\"\n",
              "     width=\"24px\">\n",
              "    <g>\n",
              "        <path d=\"M19 3H5c-1.1 0-2 .9-2 2v14c0 1.1.9 2 2 2h14c1.1 0 2-.9 2-2V5c0-1.1-.9-2-2-2zM9 17H7v-7h2v7zm4 0h-2V7h2v10zm4 0h-2v-4h2v4z\"/>\n",
              "    </g>\n",
              "</svg>\n",
              "  </button>\n",
              "\n",
              "<style>\n",
              "  .colab-df-quickchart {\n",
              "      --bg-color: #E8F0FE;\n",
              "      --fill-color: #1967D2;\n",
              "      --hover-bg-color: #E2EBFA;\n",
              "      --hover-fill-color: #174EA6;\n",
              "      --disabled-fill-color: #AAA;\n",
              "      --disabled-bg-color: #DDD;\n",
              "  }\n",
              "\n",
              "  [theme=dark] .colab-df-quickchart {\n",
              "      --bg-color: #3B4455;\n",
              "      --fill-color: #D2E3FC;\n",
              "      --hover-bg-color: #434B5C;\n",
              "      --hover-fill-color: #FFFFFF;\n",
              "      --disabled-bg-color: #3B4455;\n",
              "      --disabled-fill-color: #666;\n",
              "  }\n",
              "\n",
              "  .colab-df-quickchart {\n",
              "    background-color: var(--bg-color);\n",
              "    border: none;\n",
              "    border-radius: 50%;\n",
              "    cursor: pointer;\n",
              "    display: none;\n",
              "    fill: var(--fill-color);\n",
              "    height: 32px;\n",
              "    padding: 0;\n",
              "    width: 32px;\n",
              "  }\n",
              "\n",
              "  .colab-df-quickchart:hover {\n",
              "    background-color: var(--hover-bg-color);\n",
              "    box-shadow: 0 1px 2px rgba(60, 64, 67, 0.3), 0 1px 3px 1px rgba(60, 64, 67, 0.15);\n",
              "    fill: var(--button-hover-fill-color);\n",
              "  }\n",
              "\n",
              "  .colab-df-quickchart-complete:disabled,\n",
              "  .colab-df-quickchart-complete:disabled:hover {\n",
              "    background-color: var(--disabled-bg-color);\n",
              "    fill: var(--disabled-fill-color);\n",
              "    box-shadow: none;\n",
              "  }\n",
              "\n",
              "  .colab-df-spinner {\n",
              "    border: 2px solid var(--fill-color);\n",
              "    border-color: transparent;\n",
              "    border-bottom-color: var(--fill-color);\n",
              "    animation:\n",
              "      spin 1s steps(1) infinite;\n",
              "  }\n",
              "\n",
              "  @keyframes spin {\n",
              "    0% {\n",
              "      border-color: transparent;\n",
              "      border-bottom-color: var(--fill-color);\n",
              "      border-left-color: var(--fill-color);\n",
              "    }\n",
              "    20% {\n",
              "      border-color: transparent;\n",
              "      border-left-color: var(--fill-color);\n",
              "      border-top-color: var(--fill-color);\n",
              "    }\n",
              "    30% {\n",
              "      border-color: transparent;\n",
              "      border-left-color: var(--fill-color);\n",
              "      border-top-color: var(--fill-color);\n",
              "      border-right-color: var(--fill-color);\n",
              "    }\n",
              "    40% {\n",
              "      border-color: transparent;\n",
              "      border-right-color: var(--fill-color);\n",
              "      border-top-color: var(--fill-color);\n",
              "    }\n",
              "    60% {\n",
              "      border-color: transparent;\n",
              "      border-right-color: var(--fill-color);\n",
              "    }\n",
              "    80% {\n",
              "      border-color: transparent;\n",
              "      border-right-color: var(--fill-color);\n",
              "      border-bottom-color: var(--fill-color);\n",
              "    }\n",
              "    90% {\n",
              "      border-color: transparent;\n",
              "      border-bottom-color: var(--fill-color);\n",
              "    }\n",
              "  }\n",
              "</style>\n",
              "\n",
              "  <script>\n",
              "    async function quickchart(key) {\n",
              "      const quickchartButtonEl =\n",
              "        document.querySelector('#' + key + ' button');\n",
              "      quickchartButtonEl.disabled = true;  // To prevent multiple clicks.\n",
              "      quickchartButtonEl.classList.add('colab-df-spinner');\n",
              "      try {\n",
              "        const charts = await google.colab.kernel.invokeFunction(\n",
              "            'suggestCharts', [key], {});\n",
              "      } catch (error) {\n",
              "        console.error('Error during call to suggestCharts:', error);\n",
              "      }\n",
              "      quickchartButtonEl.classList.remove('colab-df-spinner');\n",
              "      quickchartButtonEl.classList.add('colab-df-quickchart-complete');\n",
              "    }\n",
              "    (() => {\n",
              "      let quickchartButtonEl =\n",
              "        document.querySelector('#df-7177f355-8c85-4472-ab74-fd72be59efc5 button');\n",
              "      quickchartButtonEl.style.display =\n",
              "        google.colab.kernel.accessAllowed ? 'block' : 'none';\n",
              "    })();\n",
              "  </script>\n",
              "</div>\n",
              "\n",
              "    </div>\n",
              "  </div>\n"
            ],
            "application/vnd.google.colaboratory.intrinsic+json": {
              "type": "dataframe",
              "variable_name": "red_wine",
              "summary": "{\n  \"name\": \"red_wine\",\n  \"rows\": 1599,\n  \"fields\": [\n    {\n      \"column\": \"fixed acidity\",\n      \"properties\": {\n        \"dtype\": \"number\",\n        \"std\": 1.7410963181276953,\n        \"min\": 4.6,\n        \"max\": 15.9,\n        \"num_unique_values\": 96,\n        \"samples\": [\n          5.3,\n          12.7,\n          12.6\n        ],\n        \"semantic_type\": \"\",\n        \"description\": \"\"\n      }\n    },\n    {\n      \"column\": \"volatile acidity\",\n      \"properties\": {\n        \"dtype\": \"number\",\n        \"std\": 0.17905970415353537,\n        \"min\": 0.12,\n        \"max\": 1.58,\n        \"num_unique_values\": 143,\n        \"samples\": [\n          1.025,\n          0.4,\n          0.87\n        ],\n        \"semantic_type\": \"\",\n        \"description\": \"\"\n      }\n    },\n    {\n      \"column\": \"citric acid\",\n      \"properties\": {\n        \"dtype\": \"number\",\n        \"std\": 0.19480113740531857,\n        \"min\": 0.0,\n        \"max\": 1.0,\n        \"num_unique_values\": 80,\n        \"samples\": [\n          0.37,\n          0.0,\n          0.09\n        ],\n        \"semantic_type\": \"\",\n        \"description\": \"\"\n      }\n    },\n    {\n      \"column\": \"residual sugar\",\n      \"properties\": {\n        \"dtype\": \"number\",\n        \"std\": 1.4099280595072798,\n        \"min\": 0.9,\n        \"max\": 15.5,\n        \"num_unique_values\": 91,\n        \"samples\": [\n          11.0,\n          3.0,\n          15.5\n        ],\n        \"semantic_type\": \"\",\n        \"description\": \"\"\n      }\n    },\n    {\n      \"column\": \"chlorides\",\n      \"properties\": {\n        \"dtype\": \"number\",\n        \"std\": 0.0470653020100901,\n        \"min\": 0.012,\n        \"max\": 0.611,\n        \"num_unique_values\": 153,\n        \"samples\": [\n          0.096,\n          0.3429999999999999,\n          0.159\n        ],\n        \"semantic_type\": \"\",\n        \"description\": \"\"\n      }\n    },\n    {\n      \"column\": \"free sulfur dioxide\",\n      \"properties\": {\n        \"dtype\": \"number\",\n        \"std\": 10.460156969809725,\n        \"min\": 1.0,\n        \"max\": 72.0,\n        \"num_unique_values\": 60,\n        \"samples\": [\n          11.0,\n          9.0,\n          32.0\n        ],\n        \"semantic_type\": \"\",\n        \"description\": \"\"\n      }\n    },\n    {\n      \"column\": \"total sulfur dioxide\",\n      \"properties\": {\n        \"dtype\": \"number\",\n        \"std\": 32.895324478299074,\n        \"min\": 6.0,\n        \"max\": 289.0,\n        \"num_unique_values\": 144,\n        \"samples\": [\n          68.0,\n          35.0,\n          101.0\n        ],\n        \"semantic_type\": \"\",\n        \"description\": \"\"\n      }\n    },\n    {\n      \"column\": \"density\",\n      \"properties\": {\n        \"dtype\": \"number\",\n        \"std\": 0.0018873339538425554,\n        \"min\": 0.99007,\n        \"max\": 1.00369,\n        \"num_unique_values\": 436,\n        \"samples\": [\n          0.99974,\n          1.0001,\n          0.99471\n        ],\n        \"semantic_type\": \"\",\n        \"description\": \"\"\n      }\n    },\n    {\n      \"column\": \"pH\",\n      \"properties\": {\n        \"dtype\": \"number\",\n        \"std\": 0.15438646490354277,\n        \"min\": 2.74,\n        \"max\": 4.01,\n        \"num_unique_values\": 89,\n        \"samples\": [\n          3.07,\n          3.0,\n          3.15\n        ],\n        \"semantic_type\": \"\",\n        \"description\": \"\"\n      }\n    },\n    {\n      \"column\": \"sulphates\",\n      \"properties\": {\n        \"dtype\": \"number\",\n        \"std\": 0.16950697959010996,\n        \"min\": 0.33,\n        \"max\": 2.0,\n        \"num_unique_values\": 96,\n        \"samples\": [\n          1.07,\n          1.04,\n          1.18\n        ],\n        \"semantic_type\": \"\",\n        \"description\": \"\"\n      }\n    },\n    {\n      \"column\": \"alcohol\",\n      \"properties\": {\n        \"dtype\": \"number\",\n        \"std\": 1.0656675818473946,\n        \"min\": 8.4,\n        \"max\": 14.9,\n        \"num_unique_values\": 65,\n        \"samples\": [\n          8.5,\n          9.95,\n          9.4\n        ],\n        \"semantic_type\": \"\",\n        \"description\": \"\"\n      }\n    },\n    {\n      \"column\": \"quality\",\n      \"properties\": {\n        \"dtype\": \"number\",\n        \"std\": 0,\n        \"min\": 3,\n        \"max\": 8,\n        \"num_unique_values\": 6,\n        \"samples\": [\n          5,\n          6,\n          3\n        ],\n        \"semantic_type\": \"\",\n        \"description\": \"\"\n      }\n    }\n  ]\n}"
            }
          },
          "metadata": {},
          "execution_count": 12
        }
      ]
    },
    {
      "cell_type": "code",
      "source": [
        "# 3.1\n",
        "red_wine.shape   # (1599, 12)\n",
        "red_wine.dtypes"
      ],
      "metadata": {
        "colab": {
          "base_uri": "https://localhost:8080/"
        },
        "id": "xjjJOhKio9PW",
        "outputId": "1b57bc92-e3b8-49d3-9cfc-578ea1e07bac"
      },
      "execution_count": null,
      "outputs": [
        {
          "output_type": "execute_result",
          "data": {
            "text/plain": [
              "(1599, 12)"
            ]
          },
          "metadata": {},
          "execution_count": 13
        },
        {
          "output_type": "execute_result",
          "data": {
            "text/plain": [
              "fixed acidity           float64\n",
              "volatile acidity        float64\n",
              "citric acid             float64\n",
              "residual sugar          float64\n",
              "chlorides               float64\n",
              "free sulfur dioxide     float64\n",
              "total sulfur dioxide    float64\n",
              "density                 float64\n",
              "pH                      float64\n",
              "sulphates               float64\n",
              "alcohol                 float64\n",
              "quality                   int64\n",
              "dtype: object"
            ]
          },
          "metadata": {},
          "execution_count": 13
        }
      ]
    },
    {
      "cell_type": "code",
      "source": [
        "# prompt: For the dataset red_wine please let me know if there is any correlation between 'residual sugar'and 'alcohol'\n",
        "\n",
        "correlation = red_wine['residual sugar'].corr(red_wine['alcohol'])\n",
        "print(f\"Correlation between residual sugar and alcohol: {correlation}\")\n"
      ],
      "metadata": {
        "colab": {
          "base_uri": "https://localhost:8080/"
        },
        "id": "qkhQ25Uyqgio",
        "outputId": "ec129de9-f524-4c93-e2e7-4c61a666e70a"
      },
      "execution_count": null,
      "outputs": [
        {
          "output_type": "stream",
          "name": "stdout",
          "text": [
            "Correlation between residual sugar and alcohol: 0.04207543720973102\n"
          ]
        }
      ]
    },
    {
      "cell_type": "markdown",
      "source": [
        "#C2- ASHOK HARNAL #\n"
      ],
      "metadata": {
        "id": "-vPRqjIBw8HX"
      }
    },
    {
      "cell_type": "code",
      "source": [
        "# 3.2 Get target and predictors:\n",
        "y = red_wine.pop(\"quality\")\n",
        "X = red_wine"
      ],
      "metadata": {
        "id": "IFOWvf4RxCJx"
      },
      "execution_count": null,
      "outputs": []
    },
    {
      "cell_type": "code",
      "source": [
        "# 4.0 Build model:\n",
        "\n",
        "model = tf.keras.Sequential()"
      ],
      "metadata": {
        "id": "Lvdi46AY6xLV"
      },
      "execution_count": null,
      "outputs": []
    },
    {
      "cell_type": "code",
      "source": [
        "# 4.1\n",
        "model.add(layers.Input( shape = (11,) ) )\n"
      ],
      "metadata": {
        "id": "-FfOsl3p60UM"
      },
      "execution_count": null,
      "outputs": []
    },
    {
      "cell_type": "markdown",
      "source": [
        "#C3-ASHOK HARNAL#"
      ],
      "metadata": {
        "id": "RIIa0QhWk2xA"
      }
    },
    {
      "cell_type": "code",
      "source": [
        "# 4.2\n",
        "model.add(layers.Dense(1))\n",
        "#Adding one layer to it\n",
        "#dense layer paramters\n",
        "#tf.keras.layers.Dense(\n",
        "#   activation=None,\n",
        "#    use_bias=True,\n",
        "#    kernel_initializer='glorot_uniform',\n",
        "#    bias_initializer='zeros',\n",
        "#    kernel_regularizer=None,\n",
        "#    bias_regularizer=None,\n",
        "#    activity_regularizer=None,\n",
        "#    kernel_constraint=None,\n",
        "#    bias_constraint=None,\n",
        "#    lora_rank=None,\n",
        "#    **kwargs\n",
        "#)\n",
        "# non activation means linear layer which dircetly give weighted sum as output. and activation functions can make a large difference in error"
      ],
      "metadata": {
        "id": "CZuT51lG62xg"
      },
      "execution_count": null,
      "outputs": []
    },
    {
      "cell_type": "code",
      "source": [
        "\n",
        "# 1.0 Call libraries\n",
        "import pandas as pd\n",
        "import numpy as np\n",
        "from  pathlib import Path\n",
        "\n",
        "# 1.0.1\n",
        "import tensorflow as tf\n",
        "from tensorflow import keras\n",
        "from tensorflow.keras import layers"
      ],
      "metadata": {
        "id": "dqNVw1LH66mB"
      },
      "execution_count": null,
      "outputs": []
    },
    {
      "cell_type": "code",
      "source": [
        "# 4.2.1\n",
        "weights, bias = model.weights\n"
      ],
      "metadata": {
        "id": "EtkygRJ8683s"
      },
      "execution_count": null,
      "outputs": []
    },
    {
      "cell_type": "code",
      "source": [
        "# 4.2.2\n",
        "weights"
      ],
      "metadata": {
        "colab": {
          "base_uri": "https://localhost:8080/"
        },
        "id": "6rGbQ_Lt6_1p",
        "outputId": "dea5b8d2-73a5-41ae-d99b-0f0b2efe0b99"
      },
      "execution_count": null,
      "outputs": [
        {
          "output_type": "execute_result",
          "data": {
            "text/plain": [
              "<tf.Variable 'dense/kernel:0' shape=(11, 1) dtype=float32, numpy=\n",
              "array([[-0.6464354 ],\n",
              "       [-0.39483824],\n",
              "       [ 0.26866472],\n",
              "       [ 0.48996788],\n",
              "       [ 0.48826247],\n",
              "       [ 0.32107693],\n",
              "       [-0.45208344],\n",
              "       [ 0.62651306],\n",
              "       [-0.20383495],\n",
              "       [ 0.5064923 ],\n",
              "       [ 0.19817501]], dtype=float32)>"
            ]
          },
          "metadata": {},
          "execution_count": 21
        }
      ]
    },
    {
      "cell_type": "code",
      "source": [
        "\n",
        "# 4.2.3\n",
        "bias"
      ],
      "metadata": {
        "colab": {
          "base_uri": "https://localhost:8080/"
        },
        "id": "Q1-Jccyr7CaP",
        "outputId": "2ea5812a-6864-4b2a-8624-cea87503b10b"
      },
      "execution_count": null,
      "outputs": [
        {
          "output_type": "execute_result",
          "data": {
            "text/plain": [
              "<tf.Variable 'dense/bias:0' shape=(1,) dtype=float32, numpy=array([0.], dtype=float32)>"
            ]
          },
          "metadata": {},
          "execution_count": 22
        }
      ]
    },
    {
      "cell_type": "code",
      "source": [
        "#4.3 Compile\n",
        "model.compile( loss = \"mae\")\n",
        "#WE WITHER MINIMISE mse(mean squared error)(mean of sum of square of difference between mean and absolute error ), mae(mean absolute error)(mean of sum of the difference between mean and absolute values)"
      ],
      "metadata": {
        "id": "QLxm5FcZ7FYM"
      },
      "execution_count": null,
      "outputs": []
    },
    {
      "cell_type": "code",
      "source": [
        "# 4.4 Train\n",
        "model.fit(X,y, epochs = 100 )\n",
        "#(in one epoch 32 batches will be made of the 320 rows(example) and weights will be adhusted 10 times after each batch)"
      ],
      "metadata": {
        "colab": {
          "base_uri": "https://localhost:8080/"
        },
        "id": "wG7vmwi07HWg",
        "outputId": "6897b12f-68c0-409c-b784-930f91bd2c15"
      },
      "execution_count": null,
      "outputs": [
        {
          "output_type": "stream",
          "name": "stdout",
          "text": [
            "Epoch 1/100\n",
            "50/50 [==============================] - 1s 3ms/step - loss: 20.5460\n",
            "Epoch 2/100\n",
            "50/50 [==============================] - 0s 2ms/step - loss: 15.9310\n",
            "Epoch 3/100\n",
            "50/50 [==============================] - 0s 2ms/step - loss: 11.4444\n",
            "Epoch 4/100\n",
            "50/50 [==============================] - 0s 3ms/step - loss: 7.2725\n",
            "Epoch 5/100\n",
            "50/50 [==============================] - 0s 3ms/step - loss: 4.5077\n",
            "Epoch 6/100\n",
            "50/50 [==============================] - 0s 3ms/step - loss: 3.5412\n",
            "Epoch 7/100\n",
            "50/50 [==============================] - 0s 3ms/step - loss: 3.1967\n",
            "Epoch 8/100\n",
            "50/50 [==============================] - 0s 4ms/step - loss: 2.9102\n",
            "Epoch 9/100\n",
            "50/50 [==============================] - 0s 3ms/step - loss: 2.6686\n",
            "Epoch 10/100\n",
            "50/50 [==============================] - 0s 3ms/step - loss: 2.4207\n",
            "Epoch 11/100\n",
            "50/50 [==============================] - 0s 3ms/step - loss: 2.1915\n",
            "Epoch 12/100\n",
            "50/50 [==============================] - 0s 3ms/step - loss: 1.9678\n",
            "Epoch 13/100\n",
            "50/50 [==============================] - 0s 3ms/step - loss: 1.7666\n",
            "Epoch 14/100\n",
            "50/50 [==============================] - 0s 3ms/step - loss: 1.5730\n",
            "Epoch 15/100\n",
            "50/50 [==============================] - 0s 4ms/step - loss: 1.3836\n",
            "Epoch 16/100\n",
            "50/50 [==============================] - 0s 3ms/step - loss: 1.1981\n",
            "Epoch 17/100\n",
            "50/50 [==============================] - 0s 3ms/step - loss: 1.0295\n",
            "Epoch 18/100\n",
            "50/50 [==============================] - 0s 3ms/step - loss: 0.8881\n",
            "Epoch 19/100\n",
            "50/50 [==============================] - 0s 3ms/step - loss: 0.7714\n",
            "Epoch 20/100\n",
            "50/50 [==============================] - 0s 2ms/step - loss: 0.6972\n",
            "Epoch 21/100\n",
            "50/50 [==============================] - 0s 4ms/step - loss: 0.6638\n",
            "Epoch 22/100\n",
            "50/50 [==============================] - 0s 4ms/step - loss: 0.6426\n",
            "Epoch 23/100\n",
            "50/50 [==============================] - 0s 3ms/step - loss: 0.6300\n",
            "Epoch 24/100\n",
            "50/50 [==============================] - 0s 3ms/step - loss: 0.6205\n",
            "Epoch 25/100\n",
            "50/50 [==============================] - 0s 3ms/step - loss: 0.6094\n",
            "Epoch 26/100\n",
            "50/50 [==============================] - 0s 3ms/step - loss: 0.5966\n",
            "Epoch 27/100\n",
            "50/50 [==============================] - 0s 3ms/step - loss: 0.5868\n",
            "Epoch 28/100\n",
            "50/50 [==============================] - 0s 3ms/step - loss: 0.5790\n",
            "Epoch 29/100\n",
            "50/50 [==============================] - 0s 3ms/step - loss: 0.5721\n",
            "Epoch 30/100\n",
            "50/50 [==============================] - 0s 3ms/step - loss: 0.5653\n",
            "Epoch 31/100\n",
            "50/50 [==============================] - 0s 3ms/step - loss: 0.5577\n",
            "Epoch 32/100\n",
            "50/50 [==============================] - 0s 3ms/step - loss: 0.5507\n",
            "Epoch 33/100\n",
            "50/50 [==============================] - 0s 4ms/step - loss: 0.5501\n",
            "Epoch 34/100\n",
            "50/50 [==============================] - 0s 4ms/step - loss: 0.5434\n",
            "Epoch 35/100\n",
            "50/50 [==============================] - 0s 4ms/step - loss: 0.5399\n",
            "Epoch 36/100\n",
            "50/50 [==============================] - 0s 4ms/step - loss: 0.5346\n",
            "Epoch 37/100\n",
            "50/50 [==============================] - 0s 3ms/step - loss: 0.5328\n",
            "Epoch 38/100\n",
            "50/50 [==============================] - 0s 3ms/step - loss: 0.5309\n",
            "Epoch 39/100\n",
            "50/50 [==============================] - 0s 3ms/step - loss: 0.5288\n",
            "Epoch 40/100\n",
            "50/50 [==============================] - 0s 3ms/step - loss: 0.5260\n",
            "Epoch 41/100\n",
            "50/50 [==============================] - 0s 3ms/step - loss: 0.5241\n",
            "Epoch 42/100\n",
            "50/50 [==============================] - 0s 3ms/step - loss: 0.5233\n",
            "Epoch 43/100\n",
            "50/50 [==============================] - 0s 3ms/step - loss: 0.5233\n",
            "Epoch 44/100\n",
            "50/50 [==============================] - 0s 3ms/step - loss: 0.5221\n",
            "Epoch 45/100\n",
            "50/50 [==============================] - 0s 3ms/step - loss: 0.5198\n",
            "Epoch 46/100\n",
            "50/50 [==============================] - 0s 3ms/step - loss: 0.5223\n",
            "Epoch 47/100\n",
            "50/50 [==============================] - 0s 2ms/step - loss: 0.5186\n",
            "Epoch 48/100\n",
            "50/50 [==============================] - 0s 2ms/step - loss: 0.5189\n",
            "Epoch 49/100\n",
            "50/50 [==============================] - 0s 2ms/step - loss: 0.5211\n",
            "Epoch 50/100\n",
            "50/50 [==============================] - 0s 2ms/step - loss: 0.5203\n",
            "Epoch 51/100\n",
            "50/50 [==============================] - 0s 2ms/step - loss: 0.5183\n",
            "Epoch 52/100\n",
            "50/50 [==============================] - 0s 2ms/step - loss: 0.5188\n",
            "Epoch 53/100\n",
            "50/50 [==============================] - 0s 2ms/step - loss: 0.5197\n",
            "Epoch 54/100\n",
            "50/50 [==============================] - 0s 2ms/step - loss: 0.5198\n",
            "Epoch 55/100\n",
            "50/50 [==============================] - 0s 2ms/step - loss: 0.5168\n",
            "Epoch 56/100\n",
            "50/50 [==============================] - 0s 2ms/step - loss: 0.5188\n",
            "Epoch 57/100\n",
            "50/50 [==============================] - 0s 2ms/step - loss: 0.5166\n",
            "Epoch 58/100\n",
            "50/50 [==============================] - 0s 2ms/step - loss: 0.5195\n",
            "Epoch 59/100\n",
            "50/50 [==============================] - 0s 2ms/step - loss: 0.5149\n",
            "Epoch 60/100\n",
            "50/50 [==============================] - 0s 2ms/step - loss: 0.5158\n",
            "Epoch 61/100\n",
            "50/50 [==============================] - 0s 2ms/step - loss: 0.5164\n",
            "Epoch 62/100\n",
            "50/50 [==============================] - 0s 2ms/step - loss: 0.5167\n",
            "Epoch 63/100\n",
            "50/50 [==============================] - 0s 2ms/step - loss: 0.5130\n",
            "Epoch 64/100\n",
            "50/50 [==============================] - 0s 2ms/step - loss: 0.5161\n",
            "Epoch 65/100\n",
            "50/50 [==============================] - 0s 2ms/step - loss: 0.5161\n",
            "Epoch 66/100\n",
            "50/50 [==============================] - 0s 2ms/step - loss: 0.5146\n",
            "Epoch 67/100\n",
            "50/50 [==============================] - 0s 2ms/step - loss: 0.5159\n",
            "Epoch 68/100\n",
            "50/50 [==============================] - 0s 2ms/step - loss: 0.5140\n",
            "Epoch 69/100\n",
            "50/50 [==============================] - 0s 2ms/step - loss: 0.5142\n",
            "Epoch 70/100\n",
            "50/50 [==============================] - 0s 2ms/step - loss: 0.5150\n",
            "Epoch 71/100\n",
            "50/50 [==============================] - 0s 2ms/step - loss: 0.5134\n",
            "Epoch 72/100\n",
            "50/50 [==============================] - 0s 3ms/step - loss: 0.5156\n",
            "Epoch 73/100\n",
            "50/50 [==============================] - 0s 3ms/step - loss: 0.5140\n",
            "Epoch 74/100\n",
            "50/50 [==============================] - 0s 4ms/step - loss: 0.5142\n",
            "Epoch 75/100\n",
            "50/50 [==============================] - 0s 3ms/step - loss: 0.5116\n",
            "Epoch 76/100\n",
            "50/50 [==============================] - 0s 3ms/step - loss: 0.5135\n",
            "Epoch 77/100\n",
            "50/50 [==============================] - 0s 3ms/step - loss: 0.5139\n",
            "Epoch 78/100\n",
            "50/50 [==============================] - 0s 3ms/step - loss: 0.5111\n",
            "Epoch 79/100\n",
            "50/50 [==============================] - 0s 4ms/step - loss: 0.5118\n",
            "Epoch 80/100\n",
            "50/50 [==============================] - 0s 2ms/step - loss: 0.5129\n",
            "Epoch 81/100\n",
            "50/50 [==============================] - 0s 4ms/step - loss: 0.5149\n",
            "Epoch 82/100\n",
            "50/50 [==============================] - 0s 4ms/step - loss: 0.5111\n",
            "Epoch 83/100\n",
            "50/50 [==============================] - 0s 3ms/step - loss: 0.5111\n",
            "Epoch 84/100\n",
            "50/50 [==============================] - 0s 5ms/step - loss: 0.5136\n",
            "Epoch 85/100\n",
            "50/50 [==============================] - 0s 5ms/step - loss: 0.5110\n",
            "Epoch 86/100\n",
            "50/50 [==============================] - 0s 3ms/step - loss: 0.5128\n",
            "Epoch 87/100\n",
            "50/50 [==============================] - 0s 2ms/step - loss: 0.5122\n",
            "Epoch 88/100\n",
            "50/50 [==============================] - 0s 2ms/step - loss: 0.5119\n",
            "Epoch 89/100\n",
            "50/50 [==============================] - 0s 2ms/step - loss: 0.5102\n",
            "Epoch 90/100\n",
            "50/50 [==============================] - 0s 2ms/step - loss: 0.5103\n",
            "Epoch 91/100\n",
            "50/50 [==============================] - 0s 2ms/step - loss: 0.5104\n",
            "Epoch 92/100\n",
            "50/50 [==============================] - 0s 2ms/step - loss: 0.5094\n",
            "Epoch 93/100\n",
            "50/50 [==============================] - 0s 2ms/step - loss: 0.5123\n",
            "Epoch 94/100\n",
            "50/50 [==============================] - 0s 2ms/step - loss: 0.5112\n",
            "Epoch 95/100\n",
            "50/50 [==============================] - 0s 2ms/step - loss: 0.5124\n",
            "Epoch 96/100\n",
            "50/50 [==============================] - 0s 1ms/step - loss: 0.5101\n",
            "Epoch 97/100\n",
            "50/50 [==============================] - 0s 2ms/step - loss: 0.5107\n",
            "Epoch 98/100\n",
            "50/50 [==============================] - 0s 2ms/step - loss: 0.5092\n",
            "Epoch 99/100\n",
            "50/50 [==============================] - 0s 2ms/step - loss: 0.5101\n",
            "Epoch 100/100\n",
            "50/50 [==============================] - 0s 1ms/step - loss: 0.5106\n"
          ]
        },
        {
          "output_type": "execute_result",
          "data": {
            "text/plain": [
              "<keras.src.callbacks.History at 0x7c1ef436b490>"
            ]
          },
          "metadata": {},
          "execution_count": 24
        }
      ]
    },
    {
      "cell_type": "code",
      "source": [
        "# 5.0 Predict\n",
        "pred = model.predict(X)"
      ],
      "metadata": {
        "colab": {
          "base_uri": "https://localhost:8080/"
        },
        "id": "Arr4FtMV7Jnr",
        "outputId": "3b51a5dd-4f8d-4589-8589-496e444c2a04"
      },
      "execution_count": null,
      "outputs": [
        {
          "output_type": "stream",
          "name": "stdout",
          "text": [
            "50/50 [==============================] - 0s 2ms/step\n"
          ]
        }
      ]
    },
    {
      "cell_type": "code",
      "source": [
        "\n",
        "# 5.1 Round up decimal places\n",
        "pred = np.round(pred)\n"
      ],
      "metadata": {
        "id": "IkZ7_GHZ7WxO"
      },
      "execution_count": null,
      "outputs": []
    },
    {
      "cell_type": "code",
      "source": [
        "# 5.1.1\n",
        "y.shape"
      ],
      "metadata": {
        "colab": {
          "base_uri": "https://localhost:8080/"
        },
        "id": "hiGRZVim7bGW",
        "outputId": "48b7442a-96e8-4df0-e977-a5d7a5bad34a"
      },
      "execution_count": null,
      "outputs": [
        {
          "output_type": "execute_result",
          "data": {
            "text/plain": [
              "(1599,)"
            ]
          },
          "metadata": {},
          "execution_count": 27
        }
      ]
    },
    {
      "cell_type": "code",
      "source": [
        "\n",
        "# 5.2 Compare:\n",
        "np.sum(pred == y.values.reshape(1599,1))/1599"
      ],
      "metadata": {
        "id": "b8LIzMcC7etv",
        "outputId": "4bea5d47-ca5c-486f-f56f-7c8c9b82068d",
        "colab": {
          "base_uri": "https://localhost:8080/"
        }
      },
      "execution_count": null,
      "outputs": [
        {
          "output_type": "execute_result",
          "data": {
            "text/plain": [
              "0.575984990619137"
            ]
          },
          "metadata": {},
          "execution_count": 36
        }
      ]
    },
    {
      "cell_type": "code",
      "source": [
        "#experimenting with sigmoid activation function and it resulted in more error than linear function"
      ],
      "metadata": {
        "id": "2G9W2yvPlC7E"
      },
      "execution_count": null,
      "outputs": []
    },
    {
      "cell_type": "code",
      "source": [
        "model = tf.keras.Sequential()\n",
        "model.add(layers.Input( shape = (11,) ) )\n",
        "model.add(layers.Dense((1),activation='sigmoid'))\n",
        "weights, bias = model.weights\n",
        "weights\n",
        "bias\n",
        "model.compile( loss = \"mae\")\n",
        "model.fit(X,y, epochs = 100 )"
      ],
      "metadata": {
        "colab": {
          "base_uri": "https://localhost:8080/"
        },
        "id": "XsPhUSpfjSN4",
        "outputId": "5d8df432-97ae-41b2-8643-895313713e26"
      },
      "execution_count": null,
      "outputs": [
        {
          "output_type": "execute_result",
          "data": {
            "text/plain": [
              "<tf.Variable 'dense_4/kernel:0' shape=(11, 1) dtype=float32, numpy=\n",
              "array([[-0.3544211 ],\n",
              "       [ 0.06061006],\n",
              "       [ 0.6974917 ],\n",
              "       [-0.29873702],\n",
              "       [-0.50287616],\n",
              "       [-0.09042811],\n",
              "       [-0.0608651 ],\n",
              "       [ 0.54818195],\n",
              "       [-0.20707554],\n",
              "       [-0.5414395 ],\n",
              "       [-0.22197565]], dtype=float32)>"
            ]
          },
          "metadata": {},
          "execution_count": 35
        },
        {
          "output_type": "execute_result",
          "data": {
            "text/plain": [
              "<tf.Variable 'dense_4/bias:0' shape=(1,) dtype=float32, numpy=array([0.], dtype=float32)>"
            ]
          },
          "metadata": {},
          "execution_count": 35
        },
        {
          "output_type": "stream",
          "name": "stdout",
          "text": [
            "Epoch 1/100\n",
            "50/50 [==============================] - 0s 2ms/step - loss: 5.6250\n",
            "Epoch 2/100\n",
            "50/50 [==============================] - 0s 2ms/step - loss: 5.1791\n",
            "Epoch 3/100\n",
            "50/50 [==============================] - 0s 2ms/step - loss: 4.8019\n",
            "Epoch 4/100\n",
            "50/50 [==============================] - 0s 2ms/step - loss: 4.6780\n",
            "Epoch 5/100\n",
            "50/50 [==============================] - 0s 2ms/step - loss: 4.6454\n",
            "Epoch 6/100\n",
            "50/50 [==============================] - 0s 2ms/step - loss: 4.6383\n",
            "Epoch 7/100\n",
            "50/50 [==============================] - 0s 2ms/step - loss: 4.6366\n",
            "Epoch 8/100\n",
            "50/50 [==============================] - 0s 2ms/step - loss: 4.6362\n",
            "Epoch 9/100\n",
            "50/50 [==============================] - 0s 2ms/step - loss: 4.6361\n",
            "Epoch 10/100\n",
            "50/50 [==============================] - 0s 1ms/step - loss: 4.6360\n",
            "Epoch 11/100\n",
            "50/50 [==============================] - 0s 2ms/step - loss: 4.6360\n",
            "Epoch 12/100\n",
            "50/50 [==============================] - 0s 2ms/step - loss: 4.6360\n",
            "Epoch 13/100\n",
            "50/50 [==============================] - 0s 2ms/step - loss: 4.6360\n",
            "Epoch 14/100\n",
            "50/50 [==============================] - 0s 2ms/step - loss: 4.6360\n",
            "Epoch 15/100\n",
            "50/50 [==============================] - 0s 2ms/step - loss: 4.6360\n",
            "Epoch 16/100\n",
            "50/50 [==============================] - 0s 2ms/step - loss: 4.6360\n",
            "Epoch 17/100\n",
            "50/50 [==============================] - 0s 2ms/step - loss: 4.6360\n",
            "Epoch 18/100\n",
            "50/50 [==============================] - 0s 2ms/step - loss: 4.6360\n",
            "Epoch 19/100\n",
            "50/50 [==============================] - 0s 2ms/step - loss: 4.6360\n",
            "Epoch 20/100\n",
            "50/50 [==============================] - 0s 2ms/step - loss: 4.6360\n",
            "Epoch 21/100\n",
            "50/50 [==============================] - 0s 2ms/step - loss: 4.6360\n",
            "Epoch 22/100\n",
            "50/50 [==============================] - 0s 1ms/step - loss: 4.6360\n",
            "Epoch 23/100\n",
            "50/50 [==============================] - 0s 2ms/step - loss: 4.6360\n",
            "Epoch 24/100\n",
            "50/50 [==============================] - 0s 2ms/step - loss: 4.6360\n",
            "Epoch 25/100\n",
            "50/50 [==============================] - 0s 2ms/step - loss: 4.6360\n",
            "Epoch 26/100\n",
            "50/50 [==============================] - 0s 2ms/step - loss: 4.6360\n",
            "Epoch 27/100\n",
            "50/50 [==============================] - 0s 2ms/step - loss: 4.6360\n",
            "Epoch 28/100\n",
            "50/50 [==============================] - 0s 2ms/step - loss: 4.6360\n",
            "Epoch 29/100\n",
            "50/50 [==============================] - 0s 2ms/step - loss: 4.6360\n",
            "Epoch 30/100\n",
            "50/50 [==============================] - 0s 2ms/step - loss: 4.6360\n",
            "Epoch 31/100\n",
            "50/50 [==============================] - 0s 2ms/step - loss: 4.6360\n",
            "Epoch 32/100\n",
            "50/50 [==============================] - 0s 2ms/step - loss: 4.6360\n",
            "Epoch 33/100\n",
            "50/50 [==============================] - 0s 2ms/step - loss: 4.6360\n",
            "Epoch 34/100\n",
            "50/50 [==============================] - 0s 2ms/step - loss: 4.6360\n",
            "Epoch 35/100\n",
            "50/50 [==============================] - 0s 2ms/step - loss: 4.6360\n",
            "Epoch 36/100\n",
            "50/50 [==============================] - 0s 2ms/step - loss: 4.6360\n",
            "Epoch 37/100\n",
            "50/50 [==============================] - 0s 2ms/step - loss: 4.6360\n",
            "Epoch 38/100\n",
            "50/50 [==============================] - 0s 2ms/step - loss: 4.6360\n",
            "Epoch 39/100\n",
            "50/50 [==============================] - 0s 2ms/step - loss: 4.6360\n",
            "Epoch 40/100\n",
            "50/50 [==============================] - 0s 2ms/step - loss: 4.6360\n",
            "Epoch 41/100\n",
            "50/50 [==============================] - 0s 2ms/step - loss: 4.6360\n",
            "Epoch 42/100\n",
            "50/50 [==============================] - 0s 2ms/step - loss: 4.6360\n",
            "Epoch 43/100\n",
            "50/50 [==============================] - 0s 2ms/step - loss: 4.6360\n",
            "Epoch 44/100\n",
            "50/50 [==============================] - 0s 2ms/step - loss: 4.6360\n",
            "Epoch 45/100\n",
            "50/50 [==============================] - 0s 2ms/step - loss: 4.6360\n",
            "Epoch 46/100\n",
            "50/50 [==============================] - 0s 2ms/step - loss: 4.6360\n",
            "Epoch 47/100\n",
            "50/50 [==============================] - 0s 2ms/step - loss: 4.6360\n",
            "Epoch 48/100\n",
            "50/50 [==============================] - 0s 2ms/step - loss: 4.6360\n",
            "Epoch 49/100\n",
            "50/50 [==============================] - 0s 2ms/step - loss: 4.6360\n",
            "Epoch 50/100\n",
            "50/50 [==============================] - 0s 2ms/step - loss: 4.6360\n",
            "Epoch 51/100\n",
            "50/50 [==============================] - 0s 2ms/step - loss: 4.6360\n",
            "Epoch 52/100\n",
            "50/50 [==============================] - 0s 2ms/step - loss: 4.6360\n",
            "Epoch 53/100\n",
            "50/50 [==============================] - 0s 2ms/step - loss: 4.6360\n",
            "Epoch 54/100\n",
            "50/50 [==============================] - 0s 2ms/step - loss: 4.6360\n",
            "Epoch 55/100\n",
            "50/50 [==============================] - 0s 2ms/step - loss: 4.6360\n",
            "Epoch 56/100\n",
            "50/50 [==============================] - 0s 2ms/step - loss: 4.6360\n",
            "Epoch 57/100\n",
            "50/50 [==============================] - 0s 2ms/step - loss: 4.6360\n",
            "Epoch 58/100\n",
            "50/50 [==============================] - 0s 2ms/step - loss: 4.6360\n",
            "Epoch 59/100\n",
            "50/50 [==============================] - 0s 2ms/step - loss: 4.6360\n",
            "Epoch 60/100\n",
            "50/50 [==============================] - 0s 2ms/step - loss: 4.6360\n",
            "Epoch 61/100\n",
            "50/50 [==============================] - 0s 2ms/step - loss: 4.6360\n",
            "Epoch 62/100\n",
            "50/50 [==============================] - 0s 2ms/step - loss: 4.6360\n",
            "Epoch 63/100\n",
            "50/50 [==============================] - 0s 2ms/step - loss: 4.6360\n",
            "Epoch 64/100\n",
            "50/50 [==============================] - 0s 2ms/step - loss: 4.6360\n",
            "Epoch 65/100\n",
            "50/50 [==============================] - 0s 2ms/step - loss: 4.6360\n",
            "Epoch 66/100\n",
            "50/50 [==============================] - 0s 1ms/step - loss: 4.6360\n",
            "Epoch 67/100\n",
            "50/50 [==============================] - 0s 2ms/step - loss: 4.6360\n",
            "Epoch 68/100\n",
            "50/50 [==============================] - 0s 2ms/step - loss: 4.6360\n",
            "Epoch 69/100\n",
            "50/50 [==============================] - 0s 2ms/step - loss: 4.6360\n",
            "Epoch 70/100\n",
            "50/50 [==============================] - 0s 2ms/step - loss: 4.6360\n",
            "Epoch 71/100\n",
            "50/50 [==============================] - 0s 2ms/step - loss: 4.6360\n",
            "Epoch 72/100\n",
            "50/50 [==============================] - 0s 1ms/step - loss: 4.6360\n",
            "Epoch 73/100\n",
            "50/50 [==============================] - 0s 2ms/step - loss: 4.6360\n",
            "Epoch 74/100\n",
            "50/50 [==============================] - 0s 1ms/step - loss: 4.6360\n",
            "Epoch 75/100\n",
            "50/50 [==============================] - 0s 1ms/step - loss: 4.6360\n",
            "Epoch 76/100\n",
            "50/50 [==============================] - 0s 2ms/step - loss: 4.6360\n",
            "Epoch 77/100\n",
            "50/50 [==============================] - 0s 2ms/step - loss: 4.6360\n",
            "Epoch 78/100\n",
            "50/50 [==============================] - 0s 2ms/step - loss: 4.6360\n",
            "Epoch 79/100\n",
            "50/50 [==============================] - 0s 2ms/step - loss: 4.6360\n",
            "Epoch 80/100\n",
            "50/50 [==============================] - 0s 2ms/step - loss: 4.6360\n",
            "Epoch 81/100\n",
            "50/50 [==============================] - 0s 2ms/step - loss: 4.6360\n",
            "Epoch 82/100\n",
            "50/50 [==============================] - 0s 2ms/step - loss: 4.6360\n",
            "Epoch 83/100\n",
            "50/50 [==============================] - 0s 2ms/step - loss: 4.6360\n",
            "Epoch 84/100\n",
            "50/50 [==============================] - 0s 2ms/step - loss: 4.6360\n",
            "Epoch 85/100\n",
            "50/50 [==============================] - 0s 2ms/step - loss: 4.6360\n",
            "Epoch 86/100\n",
            "50/50 [==============================] - 0s 2ms/step - loss: 4.6360\n",
            "Epoch 87/100\n",
            "50/50 [==============================] - 0s 1ms/step - loss: 4.6360\n",
            "Epoch 88/100\n",
            "50/50 [==============================] - 0s 1ms/step - loss: 4.6360\n",
            "Epoch 89/100\n",
            "50/50 [==============================] - 0s 1ms/step - loss: 4.6360\n",
            "Epoch 90/100\n",
            "50/50 [==============================] - 0s 2ms/step - loss: 4.6360\n",
            "Epoch 91/100\n",
            "50/50 [==============================] - 0s 2ms/step - loss: 4.6360\n",
            "Epoch 92/100\n",
            "50/50 [==============================] - 0s 2ms/step - loss: 4.6360\n",
            "Epoch 93/100\n",
            "50/50 [==============================] - 0s 2ms/step - loss: 4.6360\n",
            "Epoch 94/100\n",
            "50/50 [==============================] - 0s 2ms/step - loss: 4.6360\n",
            "Epoch 95/100\n",
            "50/50 [==============================] - 0s 2ms/step - loss: 4.6360\n",
            "Epoch 96/100\n",
            "50/50 [==============================] - 0s 2ms/step - loss: 4.6360\n",
            "Epoch 97/100\n",
            "50/50 [==============================] - 0s 2ms/step - loss: 4.6360\n",
            "Epoch 98/100\n",
            "50/50 [==============================] - 0s 3ms/step - loss: 4.6360\n",
            "Epoch 99/100\n",
            "50/50 [==============================] - 0s 3ms/step - loss: 4.6360\n",
            "Epoch 100/100\n",
            "50/50 [==============================] - 0s 3ms/step - loss: 4.6360\n"
          ]
        },
        {
          "output_type": "execute_result",
          "data": {
            "text/plain": [
              "<keras.src.callbacks.History at 0x7c1ef8d6c280>"
            ]
          },
          "metadata": {},
          "execution_count": 35
        }
      ]
    },
    {
      "cell_type": "markdown",
      "source": [],
      "metadata": {
        "id": "ZD6zg4oRe014"
      }
    }
  ]
}